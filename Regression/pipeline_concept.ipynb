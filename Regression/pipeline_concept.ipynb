{
 "cells": [
  {
   "cell_type": "code",
   "execution_count": 3,
   "id": "29e408af",
   "metadata": {},
   "outputs": [],
   "source": [
    "from sklearn.pipeline import Pipeline\n",
    "\n",
    "import numpy as np\n",
    "import pandas as pd\n",
    "import matplotlib.pyplot as plt\n",
    "%matplotlib inline\n",
    "\n",
    "from sklearn.preprocessing import PolynomialFeatures\n",
    "from sklearn.linear_model import LinearRegression"
   ]
  },
  {
   "cell_type": "code",
   "execution_count": 6,
   "id": "05c6ce9d",
   "metadata": {},
   "outputs": [],
   "source": [
    "def poly_regression(degree):\n",
    "    X_new=np.linspace(-3,3,200).reshape(200,1)\n",
    "    poly_features=PolynomialFeatures(degree=degree,include_bias=True)\n",
    "    lin_reg=LinearRegression()\n",
    "    poly_regression=Pipeline([\n",
    "        (\"poly_features\",poly_features),\n",
    "        (\"lin_reg\",lin_reg)\n",
    "    ])\n",
    "    \n",
    "    poly_regression.fit(X_train,y_train)\n",
    "    y_pred_new=poly_regression.predict(X_new)\n",
    "    \n",
    "    plt.plot(X_new,y_pred_new,'r',label=\"Degree \"+str(degree),linewidth=3)\n",
    "    \n",
    "    plt.plot(X_train,y_train,'b',linewidth=3)\n",
    "    plt.plot(X_test,y_test,'g',linewidth=3)\n",
    "    plt.legend(loc=\"upper left\")\n",
    "    plt.xlabel(\"X\")\n",
    "    plt.ylabel('y')\n",
    "    plt.axis([-4,4,0,10])\n",
    "    \n",
    "    plt.show()"
   ]
  },
  {
   "cell_type": "code",
   "execution_count": 7,
   "id": "454dcadb",
   "metadata": {},
   "outputs": [
    {
     "ename": "NameError",
     "evalue": "name 'X_train' is not defined",
     "output_type": "error",
     "traceback": [
      "\u001b[31m---------------------------------------------------------------------------\u001b[39m",
      "\u001b[31mNameError\u001b[39m                                 Traceback (most recent call last)",
      "\u001b[36mCell\u001b[39m\u001b[36m \u001b[39m\u001b[32mIn[7]\u001b[39m\u001b[32m, line 1\u001b[39m\n\u001b[32m----> \u001b[39m\u001b[32m1\u001b[39m \u001b[43mpoly_regression\u001b[49m\u001b[43m(\u001b[49m\u001b[32;43m3\u001b[39;49m\u001b[43m)\u001b[49m\n",
      "\u001b[36mCell\u001b[39m\u001b[36m \u001b[39m\u001b[32mIn[6]\u001b[39m\u001b[32m, line 10\u001b[39m, in \u001b[36mpoly_regression\u001b[39m\u001b[34m(degree)\u001b[39m\n\u001b[32m      4\u001b[39m lin_reg=LinearRegression()\n\u001b[32m      5\u001b[39m poly_regression=Pipeline([\n\u001b[32m      6\u001b[39m     (\u001b[33m\"\u001b[39m\u001b[33mpoly_features\u001b[39m\u001b[33m\"\u001b[39m,poly_features),\n\u001b[32m      7\u001b[39m     (\u001b[33m\"\u001b[39m\u001b[33mlin_reg\u001b[39m\u001b[33m\"\u001b[39m,lin_reg)\n\u001b[32m      8\u001b[39m ])\n\u001b[32m---> \u001b[39m\u001b[32m10\u001b[39m poly_regression.fit(\u001b[43mX_train\u001b[49m,y_train)\n\u001b[32m     11\u001b[39m y_pred_new=poly_regression.predict(X_new)\n\u001b[32m     13\u001b[39m plt.plot(X_new,y_pred_new,\u001b[33m'\u001b[39m\u001b[33mr\u001b[39m\u001b[33m'\u001b[39m,label=\u001b[33m\"\u001b[39m\u001b[33mDegree \u001b[39m\u001b[33m\"\u001b[39m+\u001b[38;5;28mstr\u001b[39m(degree),linewidth=\u001b[32m3\u001b[39m)\n",
      "\u001b[31mNameError\u001b[39m: name 'X_train' is not defined"
     ]
    }
   ],
   "source": [
    "poly_regression(3)"
   ]
  },
  {
   "cell_type": "code",
   "execution_count": null,
   "id": "7349a2f7",
   "metadata": {},
   "outputs": [],
   "source": []
  }
 ],
 "metadata": {
  "kernelspec": {
   "display_name": "Python 3",
   "language": "python",
   "name": "python3"
  },
  "language_info": {
   "codemirror_mode": {
    "name": "ipython",
    "version": 3
   },
   "file_extension": ".py",
   "mimetype": "text/x-python",
   "name": "python",
   "nbconvert_exporter": "python",
   "pygments_lexer": "ipython3",
   "version": "3.12.7"
  }
 },
 "nbformat": 4,
 "nbformat_minor": 5
}
