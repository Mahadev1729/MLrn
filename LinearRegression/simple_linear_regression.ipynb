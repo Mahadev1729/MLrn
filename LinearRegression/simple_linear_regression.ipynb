{
    "cells": [
        {
            "cell_type": "markdown",
            "id": "df9e4f24",
            "metadata": {},
            "source": [
                "Simple Linear Regression  \n",
                "key points\n",
                "\n",
                "   # One independent\n",
                "   # Linear Realtionship\n",
                "   # Numrical data\n",
                "   # Interpretability\n",
                "   # Prediction\n",
                "   "
            ]
        },
        {
            "cell_type": "code",
            "execution_count": 7,
            "id": "1929ca56",
            "metadata": {},
            "outputs": [],
            "source": [
                "import numpy as np\n",
                "import pandas as pd\n",
                "import matplotlib.pyplot as plt\n",
                "%matplotlib inline\n",
                "import seaborn as sns"
            ]
        },
        {
            "cell_type": "code",
            "execution_count": 8,
            "id": "f7afbd6d",
            "metadata": {},
            "outputs": [
                {
                    "data": {
                        "application/vnd.microsoft.datawrangler.viewer.v0+json": {
                            "columns": [
                                {
                                    "name": "index",
                                    "rawType": "int64",
                                    "type": "integer"
                                },
                                {
                                    "name": "Weight",
                                    "rawType": "int64",
                                    "type": "integer"
                                },
                                {
                                    "name": "Height",
                                    "rawType": "int64",
                                    "type": "integer"
                                }
                            ],
                            "ref": "34328f25-2b04-4468-ae86-681e41b87cc7",
                            "rows": [
                                [
                                    "0",
                                    "45",
                                    "120"
                                ],
                                [
                                    "1",
                                    "58",
                                    "135"
                                ],
                                [
                                    "2",
                                    "48",
                                    "123"
                                ],
                                [
                                    "3",
                                    "60",
                                    "145"
                                ],
                                [
                                    "4",
                                    "70",
                                    "160"
                                ]
                            ],
                            "shape": {
                                "columns": 2,
                                "rows": 5
                            }
                        },
                        "text/html": [
                            "<div>\n",
                            "<style scoped>\n",
                            "    .dataframe tbody tr th:only-of-type {\n",
                            "        vertical-align: middle;\n",
                            "    }\n",
                            "\n",
                            "    .dataframe tbody tr th {\n",
                            "        vertical-align: top;\n",
                            "    }\n",
                            "\n",
                            "    .dataframe thead th {\n",
                            "        text-align: right;\n",
                            "    }\n",
                            "</style>\n",
                            "<table border=\"1\" class=\"dataframe\">\n",
                            "  <thead>\n",
                            "    <tr style=\"text-align: right;\">\n",
                            "      <th></th>\n",
                            "      <th>Weight</th>\n",
                            "      <th>Height</th>\n",
                            "    </tr>\n",
                            "  </thead>\n",
                            "  <tbody>\n",
                            "    <tr>\n",
                            "      <th>0</th>\n",
                            "      <td>45</td>\n",
                            "      <td>120</td>\n",
                            "    </tr>\n",
                            "    <tr>\n",
                            "      <th>1</th>\n",
                            "      <td>58</td>\n",
                            "      <td>135</td>\n",
                            "    </tr>\n",
                            "    <tr>\n",
                            "      <th>2</th>\n",
                            "      <td>48</td>\n",
                            "      <td>123</td>\n",
                            "    </tr>\n",
                            "    <tr>\n",
                            "      <th>3</th>\n",
                            "      <td>60</td>\n",
                            "      <td>145</td>\n",
                            "    </tr>\n",
                            "    <tr>\n",
                            "      <th>4</th>\n",
                            "      <td>70</td>\n",
                            "      <td>160</td>\n",
                            "    </tr>\n",
                            "  </tbody>\n",
                            "</table>\n",
                            "</div>"
                        ],
                        "text/plain": [
                            "   Weight  Height\n",
                            "0      45     120\n",
                            "1      58     135\n",
                            "2      48     123\n",
                            "3      60     145\n",
                            "4      70     160"
                        ]
                    },
                    "execution_count": 8,
                    "metadata": {},
                    "output_type": "execute_result"
                }
            ],
            "source": [
                "df=pd.read_csv('height-weight.csv')\n",
                "df.head(5)"
            ]
        },
        {
            "cell_type": "code",
            "execution_count": 9,
            "id": "801f322a",
            "metadata": {},
            "outputs": [
                {
                    "data": {
                        "application/vnd.microsoft.datawrangler.viewer.v0+json": {
                            "columns": [
                                {
                                    "name": "index",
                                    "rawType": "int64",
                                    "type": "integer"
                                },
                                {
                                    "name": "Weight",
                                    "rawType": "bool",
                                    "type": "boolean"
                                },
                                {
                                    "name": "Height",
                                    "rawType": "bool",
                                    "type": "boolean"
                                }
                            ],
                            "ref": "67fb3f06-f850-4ce5-a494-5fb7f3eae725",
                            "rows": [
                                [
                                    "0",
                                    "False",
                                    "False"
                                ],
                                [
                                    "1",
                                    "False",
                                    "False"
                                ],
                                [
                                    "2",
                                    "False",
                                    "False"
                                ],
                                [
                                    "3",
                                    "False",
                                    "False"
                                ],
                                [
                                    "4",
                                    "False",
                                    "False"
                                ],
                                [
                                    "5",
                                    "False",
                                    "False"
                                ],
                                [
                                    "6",
                                    "False",
                                    "False"
                                ],
                                [
                                    "7",
                                    "False",
                                    "False"
                                ],
                                [
                                    "8",
                                    "False",
                                    "False"
                                ],
                                [
                                    "9",
                                    "False",
                                    "False"
                                ],
                                [
                                    "10",
                                    "False",
                                    "False"
                                ],
                                [
                                    "11",
                                    "False",
                                    "False"
                                ],
                                [
                                    "12",
                                    "False",
                                    "False"
                                ],
                                [
                                    "13",
                                    "False",
                                    "False"
                                ],
                                [
                                    "14",
                                    "False",
                                    "False"
                                ],
                                [
                                    "15",
                                    "False",
                                    "False"
                                ],
                                [
                                    "16",
                                    "False",
                                    "False"
                                ],
                                [
                                    "17",
                                    "False",
                                    "False"
                                ],
                                [
                                    "18",
                                    "False",
                                    "False"
                                ],
                                [
                                    "19",
                                    "False",
                                    "False"
                                ],
                                [
                                    "20",
                                    "False",
                                    "False"
                                ],
                                [
                                    "21",
                                    "False",
                                    "False"
                                ],
                                [
                                    "22",
                                    "False",
                                    "False"
                                ]
                            ],
                            "shape": {
                                "columns": 2,
                                "rows": 23
                            }
                        },
                        "text/html": [
                            "<div>\n",
                            "<style scoped>\n",
                            "    .dataframe tbody tr th:only-of-type {\n",
                            "        vertical-align: middle;\n",
                            "    }\n",
                            "\n",
                            "    .dataframe tbody tr th {\n",
                            "        vertical-align: top;\n",
                            "    }\n",
                            "\n",
                            "    .dataframe thead th {\n",
                            "        text-align: right;\n",
                            "    }\n",
                            "</style>\n",
                            "<table border=\"1\" class=\"dataframe\">\n",
                            "  <thead>\n",
                            "    <tr style=\"text-align: right;\">\n",
                            "      <th></th>\n",
                            "      <th>Weight</th>\n",
                            "      <th>Height</th>\n",
                            "    </tr>\n",
                            "  </thead>\n",
                            "  <tbody>\n",
                            "    <tr>\n",
                            "      <th>0</th>\n",
                            "      <td>False</td>\n",
                            "      <td>False</td>\n",
                            "    </tr>\n",
                            "    <tr>\n",
                            "      <th>1</th>\n",
                            "      <td>False</td>\n",
                            "      <td>False</td>\n",
                            "    </tr>\n",
                            "    <tr>\n",
                            "      <th>2</th>\n",
                            "      <td>False</td>\n",
                            "      <td>False</td>\n",
                            "    </tr>\n",
                            "    <tr>\n",
                            "      <th>3</th>\n",
                            "      <td>False</td>\n",
                            "      <td>False</td>\n",
                            "    </tr>\n",
                            "    <tr>\n",
                            "      <th>4</th>\n",
                            "      <td>False</td>\n",
                            "      <td>False</td>\n",
                            "    </tr>\n",
                            "    <tr>\n",
                            "      <th>5</th>\n",
                            "      <td>False</td>\n",
                            "      <td>False</td>\n",
                            "    </tr>\n",
                            "    <tr>\n",
                            "      <th>6</th>\n",
                            "      <td>False</td>\n",
                            "      <td>False</td>\n",
                            "    </tr>\n",
                            "    <tr>\n",
                            "      <th>7</th>\n",
                            "      <td>False</td>\n",
                            "      <td>False</td>\n",
                            "    </tr>\n",
                            "    <tr>\n",
                            "      <th>8</th>\n",
                            "      <td>False</td>\n",
                            "      <td>False</td>\n",
                            "    </tr>\n",
                            "    <tr>\n",
                            "      <th>9</th>\n",
                            "      <td>False</td>\n",
                            "      <td>False</td>\n",
                            "    </tr>\n",
                            "    <tr>\n",
                            "      <th>10</th>\n",
                            "      <td>False</td>\n",
                            "      <td>False</td>\n",
                            "    </tr>\n",
                            "    <tr>\n",
                            "      <th>11</th>\n",
                            "      <td>False</td>\n",
                            "      <td>False</td>\n",
                            "    </tr>\n",
                            "    <tr>\n",
                            "      <th>12</th>\n",
                            "      <td>False</td>\n",
                            "      <td>False</td>\n",
                            "    </tr>\n",
                            "    <tr>\n",
                            "      <th>13</th>\n",
                            "      <td>False</td>\n",
                            "      <td>False</td>\n",
                            "    </tr>\n",
                            "    <tr>\n",
                            "      <th>14</th>\n",
                            "      <td>False</td>\n",
                            "      <td>False</td>\n",
                            "    </tr>\n",
                            "    <tr>\n",
                            "      <th>15</th>\n",
                            "      <td>False</td>\n",
                            "      <td>False</td>\n",
                            "    </tr>\n",
                            "    <tr>\n",
                            "      <th>16</th>\n",
                            "      <td>False</td>\n",
                            "      <td>False</td>\n",
                            "    </tr>\n",
                            "    <tr>\n",
                            "      <th>17</th>\n",
                            "      <td>False</td>\n",
                            "      <td>False</td>\n",
                            "    </tr>\n",
                            "    <tr>\n",
                            "      <th>18</th>\n",
                            "      <td>False</td>\n",
                            "      <td>False</td>\n",
                            "    </tr>\n",
                            "    <tr>\n",
                            "      <th>19</th>\n",
                            "      <td>False</td>\n",
                            "      <td>False</td>\n",
                            "    </tr>\n",
                            "    <tr>\n",
                            "      <th>20</th>\n",
                            "      <td>False</td>\n",
                            "      <td>False</td>\n",
                            "    </tr>\n",
                            "    <tr>\n",
                            "      <th>21</th>\n",
                            "      <td>False</td>\n",
                            "      <td>False</td>\n",
                            "    </tr>\n",
                            "    <tr>\n",
                            "      <th>22</th>\n",
                            "      <td>False</td>\n",
                            "      <td>False</td>\n",
                            "    </tr>\n",
                            "  </tbody>\n",
                            "</table>\n",
                            "</div>"
                        ],
                        "text/plain": [
                            "    Weight  Height\n",
                            "0    False   False\n",
                            "1    False   False\n",
                            "2    False   False\n",
                            "3    False   False\n",
                            "4    False   False\n",
                            "5    False   False\n",
                            "6    False   False\n",
                            "7    False   False\n",
                            "8    False   False\n",
                            "9    False   False\n",
                            "10   False   False\n",
                            "11   False   False\n",
                            "12   False   False\n",
                            "13   False   False\n",
                            "14   False   False\n",
                            "15   False   False\n",
                            "16   False   False\n",
                            "17   False   False\n",
                            "18   False   False\n",
                            "19   False   False\n",
                            "20   False   False\n",
                            "21   False   False\n",
                            "22   False   False"
                        ]
                    },
                    "execution_count": 9,
                    "metadata": {},
                    "output_type": "execute_result"
                }
            ],
            "source": [
                "## scatter plot\n",
                "df.isnull()"
            ]
        },
        {
            "cell_type": "code",
            "execution_count": 10,
            "id": "173a7eda",
            "metadata": {},
            "outputs": [
                {
                    "data": {
                        "text/plain": [
                            "Text(0, 0.5, 'Height')"
                        ]
                    },
                    "execution_count": 10,
                    "metadata": {},
                    "output_type": "execute_result"
                },
                {
                    "data": {
                        "image/png": "[encoded data removed]",
                        "text/plain": [
                            "<Figure size 640x480 with 1 Axes>"
                        ]
                    },
                    "metadata": {},
                    "output_type": "display_data"
                }
            ],
            "source": [
                "## scatter plot\n",
                "plt.scatter(df['Weight'],df['Height'])\n",
                "plt.xlabel('Weight')\n",
                "plt.ylabel('Height')"
            ]
        },
        {
            "cell_type": "code",
            "execution_count": 11,
            "id": "7689281c",
            "metadata": {},
            "outputs": [
                {
                    "data": {
                        "text/plain": [
                            "<seaborn.axisgrid.PairGrid at 0x1cbc4f37050>"
                        ]
                    },
                    "execution_count": 11,
                    "metadata": {},
                    "output_type": "execute_result"
                },
                {
                    "data": {
                        "image/png": "[encoded data removed]",
                        "text/plain": [
                            "<Figure size 500x500 with 6 Axes>"
                        ]
                    },
                    "metadata": {},
                    "output_type": "display_data"
                }
            ],
            "source": [
                "## correleation\n",
                "df.corr()\n",
                "sns.pairplot(df.corr())"
            ]
        },
        {
            "cell_type": "code",
            "execution_count": 12,
            "id": "864f334e",
            "metadata": {},
            "outputs": [
                {
                    "data": {
                        "text/plain": [
                            "(23,)"
                        ]
                    },
                    "execution_count": 12,
                    "metadata": {},
                    "output_type": "execute_result"
                }
            ],
            "source": [
                "## independent and dependent features\n",
                "df.head()\n",
                "X=df[['Weight']]## should in dataframe or two dimension array\n",
                "# print(X)\n",
                "# print(type(X))\n",
                "np.array(X).shape\n",
                "\n",
                "\n",
                "y=df['Height']## dependent feature\n",
                "y.shape"
            ]
        },
        {
            "cell_type": "code",
            "execution_count": 13,
            "id": "49768a29",
            "metadata": {},
            "outputs": [],
            "source": [
                "## train Test split\n",
                "from sklearn.model_selection import train_test_split\n",
                "X_train,X_test,y_train,y_test=train_test_split(X,y,test_size=0.25,random_state=42)"
            ]
        },
        {
            "cell_type": "code",
            "execution_count": 14,
            "id": "e2b46916",
            "metadata": {},
            "outputs": [],
            "source": [
                "## standardization\n",
                "from sklearn.preprocessing import StandardScaler"
            ]
        },
        {
            "cell_type": "code",
            "execution_count": 15,
            "id": "9bb3c02e",
            "metadata": {},
            "outputs": [],
            "source": [
                "scaler=StandardScaler()\n",
                "X_train=scaler.fit_transform(X_train)\n",
                "\n",
                "\n"
            ]
        },
        {
            "cell_type": "code",
            "execution_count": 16,
            "id": "47ab72fd",
            "metadata": {},
            "outputs": [
                {
                    "name": "stdout",
                    "output_type": "stream",
                    "text": [
                        "[[ 0.33497168]\n",
                        " [ 0.33497168]\n",
                        " [-1.6641678 ]\n",
                        " [ 1.36483141]\n",
                        " [-0.45256812]\n",
                        " [ 1.97063125]]\n"
                    ]
                }
            ],
            "source": [
                "X_test=scaler.transform(X_test)\n",
                "print(X_test)"
            ]
        },
        {
            "cell_type": "code",
            "execution_count": 17,
            "id": "49bbd723",
            "metadata": {},
            "outputs": [],
            "source": [
                "## apply SLR\n",
                "from sklearn.linear_model import LinearRegression\n"
            ]
        },
        {
            "cell_type": "code",
            "execution_count": 18,
            "id": "80441f33",
            "metadata": {},
            "outputs": [
                {
                    "name": "stdout",
                    "output_type": "stream",
                    "text": [
                        "LinearRegression(n_jobs=-1)\n"
                    ]
                }
            ],
            "source": [
                "regression=LinearRegression(n_jobs=-1)\n",
                "regression.fit(X_train,y_train)\n",
                "print(regression)"
            ]
        },
        {
            "cell_type": "code",
            "execution_count": 19,
            "id": "be6fb3d3",
            "metadata": {},
            "outputs": [
                {
                    "data": {
                        "text/html": [
                            "<style>#sk-container-id-1 {\n",
                            "  /* Definition of color scheme common for light and dark mode */\n",
                            "  --sklearn-color-text: #000;\n",
                            "  --sklearn-color-text-muted: #666;\n",
                            "  --sklearn-color-line: gray;\n",
                            "  /* Definition of color scheme for unfitted estimators */\n",
                            "  --sklearn-color-unfitted-level-0: #fff5e6;\n",
                            "  --sklearn-color-unfitted-level-1: #f6e4d2;\n",
                            "  --sklearn-color-unfitted-level-2: #ffe0b3;\n",
                            "  --sklearn-color-unfitted-level-3: chocolate;\n",
                            "  /* Definition of color scheme for fitted estimators */\n",
                            "  --sklearn-color-fitted-level-0: #f0f8ff;\n",
                            "  --sklearn-color-fitted-level-1: #d4ebff;\n",
                            "  --sklearn-color-fitted-level-2: #b3dbfd;\n",
                            "  --sklearn-color-fitted-level-3: cornflowerblue;\n",
                            "\n",
                            "  /* Specific color for light theme */\n",
                            "  --sklearn-color-text-on-default-background: var(--sg-text-color, var(--theme-code-foreground, var(--jp-content-font-color1, black)));\n",
                            "  --sklearn-color-background: var(--sg-background-color, var(--theme-background, var(--jp-layout-color0, white)));\n",
                            "  --sklearn-color-border-box: var(--sg-text-color, var(--theme-code-foreground, var(--jp-content-font-color1, black)));\n",
                            "  --sklearn-color-icon: #696969;\n",
                            "\n",
                            "  @media (prefers-color-scheme: dark) {\n",
                            "    /* Redefinition of color scheme for dark theme */\n",
                            "    --sklearn-color-text-on-default-background: var(--sg-text-color, var(--theme-code-foreground, var(--jp-content-font-color1, white)));\n",
                            "    --sklearn-color-background: var(--sg-background-color, var(--theme-background, var(--jp-layout-color0, #111)));\n",
                            "    --sklearn-color-border-box: var(--sg-text-color, var(--theme-code-foreground, var(--jp-content-font-color1, white)));\n",
                            "    --sklearn-color-icon: #878787;\n",
                            "  }\n",
                            "}\n",
                            "\n",
                            "#sk-container-id-1 {\n",
                            "  color: var(--sklearn-color-text);\n",
                            "}\n",
                            "\n",
                            "#sk-container-id-1 pre {\n",
                            "  padding: 0;\n",
                            "}\n",
                            "\n",
                            "#sk-container-id-1 input.sk-hidden--visually {\n",
                            "  border: 0;\n",
                            "  clip: rect(1px 1px 1px 1px);\n",
                            "  clip: rect(1px, 1px, 1px, 1px);\n",
                            "  height: 1px;\n",
                            "  margin: -1px;\n",
                            "  overflow: hidden;\n",
                            "  padding: 0;\n",
                            "  position: absolute;\n",
                            "  width: 1px;\n",
                            "}\n",
                            "\n",
                            "#sk-container-id-1 div.sk-dashed-wrapped {\n",
                            "  border: 1px dashed var(--sklearn-color-line);\n",
                            "  margin: 0 0.4em 0.5em 0.4em;\n",
                            "  box-sizing: border-box;\n",
                            "  padding-bottom: 0.4em;\n",
                            "  background-color: var(--sklearn-color-background);\n",
                            "}\n",
                            "\n",
                            "#sk-container-id-1 div.sk-container {\n",
                            "  /* jupyter's `normalize.less` sets `[hidden] { display: none; }`\n",
                            "     but bootstrap.min.css set `[hidden] { display: none !important; }`\n",
                            "     so we also need the `!important` here to be able to override the\n",
                            "     default hidden behavior on the sphinx rendered scikit-learn.org.\n",
                            "     See: https://github.com/scikit-learn/scikit-learn/issues/21755 */\n",
                            "  display: inline-block !important;\n",
                            "  position: relative;\n",
                            "}\n",
                            "\n",
                            "#sk-container-id-1 div.sk-text-repr-fallback {\n",
                            "  display: none;\n",
                            "}\n",
                            "\n",
                            "div.sk-parallel-item,\n",
                            "div.sk-serial,\n",
                            "div.sk-item {\n",
                            "  /* draw centered vertical line to link estimators */\n",
                            "  background-image: linear-gradient(var(--sklearn-color-text-on-default-background), var(--sklearn-color-text-on-default-background));\n",
                            "  background-size: 2px 100%;\n",
                            "  background-repeat: no-repeat;\n",
                            "  background-position: center center;\n",
                            "}\n",
                            "\n",
                            "/* Parallel-specific style estimator block */\n",
                            "\n",
                            "#sk-container-id-1 div.sk-parallel-item::after {\n",
                            "  content: \"\";\n",
                            "  width: 100%;\n",
                            "  border-bottom: 2px solid var(--sklearn-color-text-on-default-background);\n",
                            "  flex-grow: 1;\n",
                            "}\n",
                            "\n",
                            "#sk-container-id-1 div.sk-parallel {\n",
                            "  display: flex;\n",
                            "  align-items: stretch;\n",
                            "  justify-content: center;\n",
                            "  background-color: var(--sklearn-color-background);\n",
                            "  position: relative;\n",
                            "}\n",
                            "\n",
                            "#sk-container-id-1 div.sk-parallel-item {\n",
                            "  display: flex;\n",
                            "  flex-direction: column;\n",
                            "}\n",
                            "\n",
                            "#sk-container-id-1 div.sk-parallel-item:first-child::after {\n",
                            "  align-self: flex-end;\n",
                            "  width: 50%;\n",
                            "}\n",
                            "\n",
                            "#sk-container-id-1 div.sk-parallel-item:last-child::after {\n",
                            "  align-self: flex-start;\n",
                            "  width: 50%;\n",
                            "}\n",
                            "\n",
                            "#sk-container-id-1 div.sk-parallel-item:only-child::after {\n",
                            "  width: 0;\n",
                            "}\n",
                            "\n",
                            "/* Serial-specific style estimator block */\n",
                            "\n",
                            "#sk-container-id-1 div.sk-serial {\n",
                            "  display: flex;\n",
                            "  flex-direction: column;\n",
                            "  align-items: center;\n",
                            "  background-color: var(--sklearn-color-background);\n",
                            "  padding-right: 1em;\n",
                            "  padding-left: 1em;\n",
                            "}\n",
                            "\n",
                            "\n",
                            "/* Toggleable style: style used for estimator/Pipeline/ColumnTransformer box that is\n",
                            "clickable and can be expanded/collapsed.\n",
                            "- Pipeline and ColumnTransformer use this feature and define the default style\n",
                            "- Estimators will overwrite some part of the style using the `sk-estimator` class\n",
                            "*/\n",
                            "\n",
                            "/* Pipeline and ColumnTransformer style (default) */\n",
                            "\n",
                            "#sk-container-id-1 div.sk-toggleable {\n",
                            "  /* Default theme specific background. It is overwritten whether we have a\n",
                            "  specific estimator or a Pipeline/ColumnTransformer */\n",
                            "  background-color: var(--sklearn-color-background);\n",
                            "}\n",
                            "\n",
                            "/* Toggleable label */\n",
                            "#sk-container-id-1 label.sk-toggleable__label {\n",
                            "  cursor: pointer;\n",
                            "  display: flex;\n",
                            "  width: 100%;\n",
                            "  margin-bottom: 0;\n",
                            "  padding: 0.5em;\n",
                            "  box-sizing: border-box;\n",
                            "  text-align: center;\n",
                            "  align-items: start;\n",
                            "  justify-content: space-between;\n",
                            "  gap: 0.5em;\n",
                            "}\n",
                            "\n",
                            "#sk-container-id-1 label.sk-toggleable__label .caption {\n",
                            "  font-size: 0.6rem;\n",
                            "  font-weight: lighter;\n",
                            "  color: var(--sklearn-color-text-muted);\n",
                            "}\n",
                            "\n",
                            "#sk-container-id-1 label.sk-toggleable__label-arrow:before {\n",
                            "  /* Arrow on the left of the label */\n",
                            "  content: \"▸\";\n",
                            "  float: left;\n",
                            "  margin-right: 0.25em;\n",
                            "  color: var(--sklearn-color-icon);\n",
                            "}\n",
                            "\n",
                            "#sk-container-id-1 label.sk-toggleable__label-arrow:hover:before {\n",
                            "  color: var(--sklearn-color-text);\n",
                            "}\n",
                            "\n",
                            "/* Toggleable content - dropdown */\n",
                            "\n",
                            "#sk-container-id-1 div.sk-toggleable__content {\n",
                            "  display: none;\n",
                            "  text-align: left;\n",
                            "  /* unfitted */\n",
                            "  background-color: var(--sklearn-color-unfitted-level-0);\n",
                            "}\n",
                            "\n",
                            "#sk-container-id-1 div.sk-toggleable__content.fitted {\n",
                            "  /* fitted */\n",
                            "  background-color: var(--sklearn-color-fitted-level-0);\n",
                            "}\n",
                            "\n",
                            "#sk-container-id-1 div.sk-toggleable__content pre {\n",
                            "  margin: 0.2em;\n",
                            "  border-radius: 0.25em;\n",
                            "  color: var(--sklearn-color-text);\n",
                            "  /* unfitted */\n",
                            "  background-color: var(--sklearn-color-unfitted-level-0);\n",
                            "}\n",
                            "\n",
                            "#sk-container-id-1 div.sk-toggleable__content.fitted pre {\n",
                            "  /* unfitted */\n",
                            "  background-color: var(--sklearn-color-fitted-level-0);\n",
                            "}\n",
                            "\n",
                            "#sk-container-id-1 input.sk-toggleable__control:checked~div.sk-toggleable__content {\n",
                            "  /* Expand drop-down */\n",
                            "  display: block;\n",
                            "  width: 100%;\n",
                            "  overflow: visible;\n",
                            "}\n",
                            "\n",
                            "#sk-container-id-1 input.sk-toggleable__control:checked~label.sk-toggleable__label-arrow:before {\n",
                            "  content: \"▾\";\n",
                            "}\n",
                            "\n",
                            "/* Pipeline/ColumnTransformer-specific style */\n",
                            "\n",
                            "#sk-container-id-1 div.sk-label input.sk-toggleable__control:checked~label.sk-toggleable__label {\n",
                            "  color: var(--sklearn-color-text);\n",
                            "  background-color: var(--sklearn-color-unfitted-level-2);\n",
                            "}\n",
                            "\n",
                            "#sk-container-id-1 div.sk-label.fitted input.sk-toggleable__control:checked~label.sk-toggleable__label {\n",
                            "  background-color: var(--sklearn-color-fitted-level-2);\n",
                            "}\n",
                            "\n",
                            "/* Estimator-specific style */\n",
                            "\n",
                            "/* Colorize estimator box */\n",
                            "#sk-container-id-1 div.sk-estimator input.sk-toggleable__control:checked~label.sk-toggleable__label {\n",
                            "  /* unfitted */\n",
                            "  background-color: var(--sklearn-color-unfitted-level-2);\n",
                            "}\n",
                            "\n",
                            "#sk-container-id-1 div.sk-estimator.fitted input.sk-toggleable__control:checked~label.sk-toggleable__label {\n",
                            "  /* fitted */\n",
                            "  background-color: var(--sklearn-color-fitted-level-2);\n",
                            "}\n",
                            "\n",
                            "#sk-container-id-1 div.sk-label label.sk-toggleable__label,\n",
                            "#sk-container-id-1 div.sk-label label {\n",
                            "  /* The background is the default theme color */\n",
                            "  color: var(--sklearn-color-text-on-default-background);\n",
                            "}\n",
                            "\n",
                            "/* On hover, darken the color of the background */\n",
                            "#sk-container-id-1 div.sk-label:hover label.sk-toggleable__label {\n",
                            "  color: var(--sklearn-color-text);\n",
                            "  background-color: var(--sklearn-color-unfitted-level-2);\n",
                            "}\n",
                            "\n",
                            "/* Label box, darken color on hover, fitted */\n",
                            "#sk-container-id-1 div.sk-label.fitted:hover label.sk-toggleable__label.fitted {\n",
                            "  color: var(--sklearn-color-text);\n",
                            "  background-color: var(--sklearn-color-fitted-level-2);\n",
                            "}\n",
                            "\n",
                            "/* Estimator label */\n",
                            "\n",
                            "#sk-container-id-1 div.sk-label label {\n",
                            "  font-family: monospace;\n",
                            "  font-weight: bold;\n",
                            "  display: inline-block;\n",
                            "  line-height: 1.2em;\n",
                            "}\n",
                            "\n",
                            "#sk-container-id-1 div.sk-label-container {\n",
                            "  text-align: center;\n",
                            "}\n",
                            "\n",
                            "/* Estimator-specific */\n",
                            "#sk-container-id-1 div.sk-estimator {\n",
                            "  font-family: monospace;\n",
                            "  border: 1px dotted var(--sklearn-color-border-box);\n",
                            "  border-radius: 0.25em;\n",
                            "  box-sizing: border-box;\n",
                            "  margin-bottom: 0.5em;\n",
                            "  /* unfitted */\n",
                            "  background-color: var(--sklearn-color-unfitted-level-0);\n",
                            "}\n",
                            "\n",
                            "#sk-container-id-1 div.sk-estimator.fitted {\n",
                            "  /* fitted */\n",
                            "  background-color: var(--sklearn-color-fitted-level-0);\n",
                            "}\n",
                            "\n",
                            "/* on hover */\n",
                            "#sk-container-id-1 div.sk-estimator:hover {\n",
                            "  /* unfitted */\n",
                            "  background-color: var(--sklearn-color-unfitted-level-2);\n",
                            "}\n",
                            "\n",
                            "#sk-container-id-1 div.sk-estimator.fitted:hover {\n",
                            "  /* fitted */\n",
                            "  background-color: var(--sklearn-color-fitted-level-2);\n",
                            "}\n",
                            "\n",
                            "/* Specification for estimator info (e.g. \"i\" and \"?\") */\n",
                            "\n",
                            "/* Common style for \"i\" and \"?\" */\n",
                            "\n",
                            ".sk-estimator-doc-link,\n",
                            "a:link.sk-estimator-doc-link,\n",
                            "a:visited.sk-estimator-doc-link {\n",
                            "  float: right;\n",
                            "  font-size: smaller;\n",
                            "  line-height: 1em;\n",
                            "  font-family: monospace;\n",
                            "  background-color: var(--sklearn-color-background);\n",
                            "  border-radius: 1em;\n",
                            "  height: 1em;\n",
                            "  width: 1em;\n",
                            "  text-decoration: none !important;\n",
                            "  margin-left: 0.5em;\n",
                            "  text-align: center;\n",
                            "  /* unfitted */\n",
                            "  border: var(--sklearn-color-unfitted-level-1) 1pt solid;\n",
                            "  color: var(--sklearn-color-unfitted-level-1);\n",
                            "}\n",
                            "\n",
                            ".sk-estimator-doc-link.fitted,\n",
                            "a:link.sk-estimator-doc-link.fitted,\n",
                            "a:visited.sk-estimator-doc-link.fitted {\n",
                            "  /* fitted */\n",
                            "  border: var(--sklearn-color-fitted-level-1) 1pt solid;\n",
                            "  color: var(--sklearn-color-fitted-level-1);\n",
                            "}\n",
                            "\n",
                            "/* On hover */\n",
                            "div.sk-estimator:hover .sk-estimator-doc-link:hover,\n",
                            ".sk-estimator-doc-link:hover,\n",
                            "div.sk-label-container:hover .sk-estimator-doc-link:hover,\n",
                            ".sk-estimator-doc-link:hover {\n",
                            "  /* unfitted */\n",
                            "  background-color: var(--sklearn-color-unfitted-level-3);\n",
                            "  color: var(--sklearn-color-background);\n",
                            "  text-decoration: none;\n",
                            "}\n",
                            "\n",
                            "div.sk-estimator.fitted:hover .sk-estimator-doc-link.fitted:hover,\n",
                            ".sk-estimator-doc-link.fitted:hover,\n",
                            "div.sk-label-container:hover .sk-estimator-doc-link.fitted:hover,\n",
                            ".sk-estimator-doc-link.fitted:hover {\n",
                            "  /* fitted */\n",
                            "  background-color: var(--sklearn-color-fitted-level-3);\n",
                            "  color: var(--sklearn-color-background);\n",
                            "  text-decoration: none;\n",
                            "}\n",
                            "\n",
                            "/* Span, style for the box shown on hovering the info icon */\n",
                            ".sk-estimator-doc-link span {\n",
                            "  display: none;\n",
                            "  z-index: 9999;\n",
                            "  position: relative;\n",
                            "  font-weight: normal;\n",
                            "  right: .2ex;\n",
                            "  padding: .5ex;\n",
                            "  margin: .5ex;\n",
                            "  width: min-content;\n",
                            "  min-width: 20ex;\n",
                            "  max-width: 50ex;\n",
                            "  color: var(--sklearn-color-text);\n",
                            "  box-shadow: 2pt 2pt 4pt #999;\n",
                            "  /* unfitted */\n",
                            "  background: var(--sklearn-color-unfitted-level-0);\n",
                            "  border: .5pt solid var(--sklearn-color-unfitted-level-3);\n",
                            "}\n",
                            "\n",
                            ".sk-estimator-doc-link.fitted span {\n",
                            "  /* fitted */\n",
                            "  background: var(--sklearn-color-fitted-level-0);\n",
                            "  border: var(--sklearn-color-fitted-level-3);\n",
                            "}\n",
                            "\n",
                            ".sk-estimator-doc-link:hover span {\n",
                            "  display: block;\n",
                            "}\n",
                            "\n",
                            "/* \"?\"-specific style due to the `<a>` HTML tag */\n",
                            "\n",
                            "#sk-container-id-1 a.estimator_doc_link {\n",
                            "  float: right;\n",
                            "  font-size: 1rem;\n",
                            "  line-height: 1em;\n",
                            "  font-family: monospace;\n",
                            "  background-color: var(--sklearn-color-background);\n",
                            "  border-radius: 1rem;\n",
                            "  height: 1rem;\n",
                            "  width: 1rem;\n",
                            "  text-decoration: none;\n",
                            "  /* unfitted */\n",
                            "  color: var(--sklearn-color-unfitted-level-1);\n",
                            "  border: var(--sklearn-color-unfitted-level-1) 1pt solid;\n",
                            "}\n",
                            "\n",
                            "#sk-container-id-1 a.estimator_doc_link.fitted {\n",
                            "  /* fitted */\n",
                            "  border: var(--sklearn-color-fitted-level-1) 1pt solid;\n",
                            "  color: var(--sklearn-color-fitted-level-1);\n",
                            "}\n",
                            "\n",
                            "/* On hover */\n",
                            "#sk-container-id-1 a.estimator_doc_link:hover {\n",
                            "  /* unfitted */\n",
                            "  background-color: var(--sklearn-color-unfitted-level-3);\n",
                            "  color: var(--sklearn-color-background);\n",
                            "  text-decoration: none;\n",
                            "}\n",
                            "\n",
                            "#sk-container-id-1 a.estimator_doc_link.fitted:hover {\n",
                            "  /* fitted */\n",
                            "  background-color: var(--sklearn-color-fitted-level-3);\n",
                            "}\n",
                            "\n",
                            ".estimator-table summary {\n",
                            "    padding: .5rem;\n",
                            "    font-family: monospace;\n",
                            "    cursor: pointer;\n",
                            "}\n",
                            "\n",
                            ".estimator-table details[open] {\n",
                            "    padding-left: 0.1rem;\n",
                            "    padding-right: 0.1rem;\n",
                            "    padding-bottom: 0.3rem;\n",
                            "}\n",
                            "\n",
                            ".estimator-table .parameters-table {\n",
                            "    margin-left: auto !important;\n",
                            "    margin-right: auto !important;\n",
                            "}\n",
                            "\n",
                            ".estimator-table .parameters-table tr:nth-child(odd) {\n",
                            "    background-color: #fff;\n",
                            "}\n",
                            "\n",
                            ".estimator-table .parameters-table tr:nth-child(even) {\n",
                            "    background-color: #f6f6f6;\n",
                            "}\n",
                            "\n",
                            ".estimator-table .parameters-table tr:hover {\n",
                            "    background-color: #e0e0e0;\n",
                            "}\n",
                            "\n",
                            ".estimator-table table td {\n",
                            "    border: 1px solid rgba(106, 105, 104, 0.232);\n",
                            "}\n",
                            "\n",
                            ".user-set td {\n",
                            "    color:rgb(255, 94, 0);\n",
                            "    text-align: left;\n",
                            "}\n",
                            "\n",
                            ".user-set td.value pre {\n",
                            "    color:rgb(255, 94, 0) !important;\n",
                            "    background-color: transparent !important;\n",
                            "}\n",
                            "\n",
                            ".default td {\n",
                            "    color: black;\n",
                            "    text-align: left;\n",
                            "}\n",
                            "\n",
                            ".user-set td i,\n",
                            ".default td i {\n",
                            "    color: black;\n",
                            "}\n",
                            "\n",
                            ".copy-paste-icon {\n",
                            "    background-image: url(data:image/svg+xml;base64,PHN2ZyB4bWxucz0iaHR0cDovL3d3dy53My5vcmcvMjAwMC9zdmciIHZpZXdCb3g9IjAgMCA0NDggNTEyIj48IS0tIUZvbnQgQXdlc29tZSBGcmVlIDYuNy4yIGJ5IEBmb250YXdlc29tZSAtIGh0dHBzOi8vZm9udGF3ZXNvbWUuY29tIExpY2Vuc2UgLSBodHRwczovL2ZvbnRhd2Vzb21lLmNvbS9saWNlbnNlL2ZyZWUgQ29weXJpZ2h0IDIwMjUgRm9udGljb25zLCBJbmMuLS0+PHBhdGggZD0iTTIwOCAwTDMzMi4xIDBjMTIuNyAwIDI0LjkgNS4xIDMzLjkgMTQuMWw2Ny45IDY3LjljOSA5IDE0LjEgMjEuMiAxNC4xIDMzLjlMNDQ4IDMzNmMwIDI2LjUtMjEuNSA0OC00OCA0OGwtMTkyIDBjLTI2LjUgMC00OC0yMS41LTQ4LTQ4bDAtMjg4YzAtMjYuNSAyMS41LTQ4IDQ4LTQ4ek00OCAxMjhsODAgMCAwIDY0LTY0IDAgMCAyNTYgMTkyIDAgMC0zMiA2NCAwIDAgNDhjMCAyNi41LTIxLjUgNDgtNDggNDhMNDggNTEyYy0yNi41IDAtNDgtMjEuNS00OC00OEwwIDE3NmMwLTI2LjUgMjEuNS00OCA0OC00OHoiLz48L3N2Zz4=);\n",
                            "    background-repeat: no-repeat;\n",
                            "    background-size: 14px 14px;\n",
                            "    background-position: 0;\n",
                            "    display: inline-block;\n",
                            "    width: 14px;\n",
                            "    height: 14px;\n",
                            "    cursor: pointer;\n",
                            "}\n",
                            "</style><body><div id=\"sk-container-id-1\" class=\"sk-top-container\"><div class=\"sk-text-repr-fallback\"><pre>LinearRegression(n_jobs=-1)</pre><b>In a Jupyter environment, please rerun this cell to show the HTML representation or trust the notebook. <br />On GitHub, the HTML representation is unable to render, please try loading this page with nbviewer.org.</b></div><div class=\"sk-container\" hidden><div class=\"sk-item\"><div class=\"sk-estimator fitted sk-toggleable\"><input class=\"sk-toggleable__control sk-hidden--visually\" id=\"sk-estimator-id-1\" type=\"checkbox\" checked><label for=\"sk-estimator-id-1\" class=\"sk-toggleable__label fitted sk-toggleable__label-arrow\"><div><div>LinearRegression</div></div><div><a class=\"sk-estimator-doc-link fitted\" rel=\"noreferrer\" target=\"_blank\" href=\"https://scikit-learn.org/1.7/modules/generated/sklearn.linear_model.LinearRegression.html\">?<span>Documentation for LinearRegression</span></a><span class=\"sk-estimator-doc-link fitted\">i<span>Fitted</span></span></div></label><div class=\"sk-toggleable__content fitted\" data-param-prefix=\"\">\n",
                            "        <div class=\"estimator-table\">\n",
                            "            <details>\n",
                            "                <summary>Parameters</summary>\n",
                            "                <table class=\"parameters-table\">\n",
                            "                  <tbody>\n",
                            "                    \n",
                            "        <tr class=\"default\">\n",
                            "            <td><i class=\"copy-paste-icon\"\n",
                            "                 onclick=\"copyToClipboard('fit_intercept',\n",
                            "                          this.parentElement.nextElementSibling)\"\n",
                            "            ></i></td>\n",
                            "            <td class=\"param\">fit_intercept&nbsp;</td>\n",
                            "            <td class=\"value\">True</td>\n",
                            "        </tr>\n",
                            "    \n",
                            "\n",
                            "        <tr class=\"default\">\n",
                            "            <td><i class=\"copy-paste-icon\"\n",
                            "                 onclick=\"copyToClipboard('copy_X',\n",
                            "                          this.parentElement.nextElementSibling)\"\n",
                            "            ></i></td>\n",
                            "            <td class=\"param\">copy_X&nbsp;</td>\n",
                            "            <td class=\"value\">True</td>\n",
                            "        </tr>\n",
                            "    \n",
                            "\n",
                            "        <tr class=\"default\">\n",
                            "            <td><i class=\"copy-paste-icon\"\n",
                            "                 onclick=\"copyToClipboard('tol',\n",
                            "                          this.parentElement.nextElementSibling)\"\n",
                            "            ></i></td>\n",
                            "            <td class=\"param\">tol&nbsp;</td>\n",
                            "            <td class=\"value\">1e-06</td>\n",
                            "        </tr>\n",
                            "    \n",
                            "\n",
                            "        <tr class=\"user-set\">\n",
                            "            <td><i class=\"copy-paste-icon\"\n",
                            "                 onclick=\"copyToClipboard('n_jobs',\n",
                            "                          this.parentElement.nextElementSibling)\"\n",
                            "            ></i></td>\n",
                            "            <td class=\"param\">n_jobs&nbsp;</td>\n",
                            "            <td class=\"value\">-1</td>\n",
                            "        </tr>\n",
                            "    \n",
                            "\n",
                            "        <tr class=\"default\">\n",
                            "            <td><i class=\"copy-paste-icon\"\n",
                            "                 onclick=\"copyToClipboard('positive',\n",
                            "                          this.parentElement.nextElementSibling)\"\n",
                            "            ></i></td>\n",
                            "            <td class=\"param\">positive&nbsp;</td>\n",
                            "            <td class=\"value\">False</td>\n",
                            "        </tr>\n",
                            "    \n",
                            "                  </tbody>\n",
                            "                </table>\n",
                            "            </details>\n",
                            "        </div>\n",
                            "    </div></div></div></div></div><script>function copyToClipboard(text, element) {\n",
                            "    // Get the parameter prefix from the closest toggleable content\n",
                            "    const toggleableContent = element.closest('.sk-toggleable__content');\n",
                            "    const paramPrefix = toggleableContent ? toggleableContent.dataset.paramPrefix : '';\n",
                            "    const fullParamName = paramPrefix ? `${paramPrefix}${text}` : text;\n",
                            "\n",
                            "    const originalStyle = element.style;\n",
                            "    const computedStyle = window.getComputedStyle(element);\n",
                            "    const originalWidth = computedStyle.width;\n",
                            "    const originalHTML = element.innerHTML.replace('Copied!', '');\n",
                            "\n",
                            "    navigator.clipboard.writeText(fullParamName)\n",
                            "        .then(() => {\n",
                            "            element.style.width = originalWidth;\n",
                            "            element.style.color = 'green';\n",
                            "            element.innerHTML = \"Copied!\";\n",
                            "\n",
                            "            setTimeout(() => {\n",
                            "                element.innerHTML = originalHTML;\n",
                            "                element.style = originalStyle;\n",
                            "            }, 2000);\n",
                            "        })\n",
                            "        .catch(err => {\n",
                            "            console.error('Failed to copy:', err);\n",
                            "            element.style.color = 'red';\n",
                            "            element.innerHTML = \"Failed!\";\n",
                            "            setTimeout(() => {\n",
                            "                element.innerHTML = originalHTML;\n",
                            "                element.style = originalStyle;\n",
                            "            }, 2000);\n",
                            "        });\n",
                            "    return false;\n",
                            "}\n",
                            "\n",
                            "document.querySelectorAll('.fa-regular.fa-copy').forEach(function(element) {\n",
                            "    const toggleableContent = element.closest('.sk-toggleable__content');\n",
                            "    const paramPrefix = toggleableContent ? toggleableContent.dataset.paramPrefix : '';\n",
                            "    const paramName = element.parentElement.nextElementSibling.textContent.trim();\n",
                            "    const fullParamName = paramPrefix ? `${paramPrefix}${paramName}` : paramName;\n",
                            "\n",
                            "    element.setAttribute('title', fullParamName);\n",
                            "});\n",
                            "</script></body>"
                        ],
                        "text/plain": [
                            "LinearRegression(n_jobs=-1)"
                        ]
                    },
                    "execution_count": 19,
                    "metadata": {},
                    "output_type": "execute_result"
                }
            ],
            "source": [
                "regression"
            ]
        },
        {
            "cell_type": "code",
            "execution_count": 20,
            "id": "3711431b",
            "metadata": {},
            "outputs": [
                {
                    "name": "stdout",
                    "output_type": "stream",
                    "text": [
                        "Coeffienct or slope: [17.2982057]\n",
                        "Interrupte: 156.47058823529412\n"
                    ]
                }
            ],
            "source": [
                "print(\"Coeffienct or slope:\",regression.coef_)\n",
                "print(\"Interrupte:\",regression.intercept_)"
            ]
        },
        {
            "cell_type": "code",
            "execution_count": null,
            "id": "175b5fba",
            "metadata": {},
            "outputs": [],
            "source": []
        },
        {
            "cell_type": "code",
            "execution_count": 21,
            "id": "7c5a3802",
            "metadata": {},
            "outputs": [
                {
                    "data": {
                        "text/plain": [
                            "[<matplotlib.lines.Line2D at 0x1cbc95072f0>]"
                        ]
                    },
                    "execution_count": 21,
                    "metadata": {},
                    "output_type": "execute_result"
                },
                {
                    "data": {
                        "image/png": "[encoded data removed]",
                        "text/plain": [
                            "<Figure size 640x480 with 1 Axes>"
                        ]
                    },
                    "metadata": {},
                    "output_type": "display_data"
                }
            ],
            "source": [
                "## plot Training data plat best fit line\n",
                "plt.scatter(X_train,y_train)\n",
                "plt.plot(X_train,regression.predict(X_train)) ## best fit line"
            ]
        },
        {
            "cell_type": "code",
            "execution_count": 22,
            "id": "fb6763b7",
            "metadata": {},
            "outputs": [],
            "source": [
                "## predication for test data\n",
                "y_pred=regression.predict(X_test)\n",
                "\n"
            ]
        },
        {
            "cell_type": "code",
            "execution_count": 23,
            "id": "bd19eb6e",
            "metadata": {},
            "outputs": [
                {
                    "name": "stdout",
                    "output_type": "stream",
                    "text": [
                        "114.84069295228699\n",
                        "9.66512588679501\n",
                        "10.716374991212605\n"
                    ]
                }
            ],
            "source": [
                "## perfomance Metrics\n",
                "from sklearn.metrics import mean_squared_error,mean_absolute_error\n",
                "\n",
                "mse=mean_squared_error(y_test,y_pred)\n",
                "mae=mean_absolute_error(y_test,y_pred)\n",
                "print(mse)\n",
                "print(mae)\n",
                "rmse=np.sqrt(mse)\n",
                "print(rmse)"
            ]
        },
        {
            "cell_type": "code",
            "execution_count": 24,
            "id": "5892e427",
            "metadata": {},
            "outputs": [
                {
                    "name": "stdout",
                    "output_type": "stream",
                    "text": [
                        "0.7360826717981276\n"
                    ]
                }
            ],
            "source": [
                "from sklearn.metrics import r2_score\n",
                "score=r2_score(y_test,y_pred)\n",
                "print(score)"
            ]
        },
        {
            "cell_type": "code",
            "execution_count": 25,
            "id": "cf04120d",
            "metadata": {},
            "outputs": [],
            "source": [
                "## OLS method\n",
                "import statsmodels.api as sm"
            ]
        },
        {
            "cell_type": "code",
            "execution_count": 26,
            "id": "dcbffec0",
            "metadata": {},
            "outputs": [
                {
                    "name": "stdout",
                    "output_type": "stream",
                    "text": [
                        "[  5.79440897   5.79440897 -28.78711691  23.60913442  -7.82861638\n",
                        "  34.08838469]\n"
                    ]
                }
            ],
            "source": [
                "model=sm.OLS(y_train,X_train).fit()\n",
                "prediction=model.predict(X_test)\n",
                "print(prediction)"
            ]
        },
        {
            "cell_type": "code",
            "execution_count": 27,
            "id": "59c3346f",
            "metadata": {},
            "outputs": [
                {
                    "name": "stdout",
                    "output_type": "stream",
                    "text": [
                        "                                 OLS Regression Results                                \n",
                        "=======================================================================================\n",
                        "Dep. Variable:                 Height   R-squared (uncentered):                   0.012\n",
                        "Model:                            OLS   Adj. R-squared (uncentered):             -0.050\n",
                        "Method:                 Least Squares   F-statistic:                             0.1953\n",
                        "Date:                Wed, 18 Jun 2025   Prob (F-statistic):                       0.664\n",
                        "Time:                        19:04:42   Log-Likelihood:                         -110.03\n",
                        "No. Observations:                  17   AIC:                                      222.1\n",
                        "Df Residuals:                      16   BIC:                                      222.9\n",
                        "Df Model:                           1                                                  \n",
                        "Covariance Type:            nonrobust                                                  \n",
                        "==============================================================================\n",
                        "                 coef    std err          t      P>|t|      [0.025      0.975]\n",
                        "------------------------------------------------------------------------------\n",
                        "x1            17.2982     39.138      0.442      0.664     -65.671     100.267\n",
                        "==============================================================================\n",
                        "Omnibus:                        0.135   Durbin-Watson:                   0.002\n",
                        "Prob(Omnibus):                  0.935   Jarque-Bera (JB):                0.203\n",
                        "Skew:                          -0.166   Prob(JB):                        0.904\n",
                        "Kurtosis:                       2.581   Cond. No.                         1.00\n",
                        "==============================================================================\n",
                        "\n",
                        "Notes:\n",
                        "[1] R² is computed without centering (uncentered) since the model does not contain a constant.\n",
                        "[2] Standard Errors assume that the covariance matrix of the errors is correctly specified.\n"
                    ]
                },
                {
                    "name": "stderr",
                    "output_type": "stream",
                    "text": [
                        "d:\\ML\\myenv\\Lib\\site-packages\\scipy\\stats\\_axis_nan_policy.py:430: UserWarning: `kurtosistest` p-value may be inaccurate with fewer than 20 observations; only n=17 observations were given.\n",
                        "  return hypotest_fun_in(*args, **kwds)\n"
                    ]
                }
            ],
            "source": [
                "print(model.summary())"
            ]
        },
        {
            "cell_type": "markdown",
            "id": "ac17e585",
            "metadata": {},
            "source": [
                "## prediation for new data\n",
                "regression.predict(scaler.transform([[73]]))"
            ]
        },
        {
            "cell_type": "code",
            "execution_count": 33,
            "id": "ed8f471a",
            "metadata": {},
            "outputs": [
                {
                    "name": "stderr",
                    "output_type": "stream",
                    "text": [
                        "d:\\ML\\myenv\\Lib\\site-packages\\sklearn\\utils\\validation.py:2749: UserWarning: X does not have valid feature names, but StandardScaler was fitted with feature names\n",
                        "  warnings.warn(\n"
                    ]
                },
                {
                    "data": {
                        "text/plain": [
                            "array([153.88159699])"
                        ]
                    },
                    "execution_count": 33,
                    "metadata": {},
                    "output_type": "execute_result"
                }
            ],
            "source": [
                "regression.predict(scaler.transform([[70]]))"
            ]
        },
        {
            "cell_type": "code",
            "execution_count": 31,
            "id": "74f1b11d",
            "metadata": {},
            "outputs": [
                {
                    "data": {
                        "text/plain": [
                            "array([1158.97978219])"
                        ]
                    },
                    "execution_count": 31,
                    "metadata": {},
                    "output_type": "execute_result"
                }
            ],
            "source": [
                "model.predict([[67]])"
            ]
        }
    ],
    "metadata": {
        "kernelspec": {
            "display_name": "Python 3",
            "language": "python",
            "name": "python3"
        },
        "language_info": {
            "codemirror_mode": {
                "name": "ipython",
                "version": 3
            },
            "file_extension": ".py",
            "mimetype": "text/x-python",
            "name": "python",
            "nbconvert_exporter": "python",
            "pygments_lexer": "ipython3",
            "version": "3.12.7"
        }
    },
    "nbformat": 4,
    "nbformat_minor": 5
}
