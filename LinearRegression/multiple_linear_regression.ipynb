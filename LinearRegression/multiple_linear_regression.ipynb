{
    "cells": [
        {
            "cell_type": "code",
            "execution_count": 1,
            "id": "7dd303be",
            "metadata": {},
            "outputs": [],
            "source": [
                "## Multiple Linear Regression\n",
                "\n",
                "import numpy as np\n",
                "import pandas as pd\n",
                "import matplotlib.pyplot as plt\n",
                "import seaborn as sns\n",
                "%matplotlib inline"
            ]
        },
        {
            "cell_type": "code",
            "execution_count": 2,
            "id": "44665743",
            "metadata": {},
            "outputs": [
                {
                    "data": {
                        "application/vnd.microsoft.datawrangler.viewer.v0+json": {
                            "columns": [
                                {
                                    "name": "index",
                                    "rawType": "int64",
                                    "type": "integer"
                                },
                                {
                                    "name": "SNo",
                                    "rawType": "int64",
                                    "type": "integer"
                                },
                                {
                                    "name": "year",
                                    "rawType": "int64",
                                    "type": "integer"
                                },
                                {
                                    "name": "month",
                                    "rawType": "int64",
                                    "type": "integer"
                                },
                                {
                                    "name": "interest_rate",
                                    "rawType": "float64",
                                    "type": "float"
                                },
                                {
                                    "name": "unemployment_rate",
                                    "rawType": "float64",
                                    "type": "float"
                                },
                                {
                                    "name": "index_price",
                                    "rawType": "int64",
                                    "type": "integer"
                                }
                            ],
                            "ref": "44b558cb-5c3d-4b02-86cd-c0039b4d7fb8",
                            "rows": [
                                [
                                    "0",
                                    "0",
                                    "2017",
                                    "12",
                                    "2.75",
                                    "5.3",
                                    "1464"
                                ],
                                [
                                    "1",
                                    "1",
                                    "2017",
                                    "11",
                                    "2.5",
                                    "5.3",
                                    "1394"
                                ],
                                [
                                    "2",
                                    "2",
                                    "2017",
                                    "10",
                                    "2.5",
                                    "5.3",
                                    "1357"
                                ],
                                [
                                    "3",
                                    "3",
                                    "2017",
                                    "9",
                                    "2.5",
                                    "5.3",
                                    "1293"
                                ],
                                [
                                    "4",
                                    "4",
                                    "2017",
                                    "8",
                                    "2.5",
                                    "5.4",
                                    "1256"
                                ]
                            ],
                            "shape": {
                                "columns": 6,
                                "rows": 5
                            }
                        },
                        "text/html": [
                            "<div>\n",
                            "<style scoped>\n",
                            "    .dataframe tbody tr th:only-of-type {\n",
                            "        vertical-align: middle;\n",
                            "    }\n",
                            "\n",
                            "    .dataframe tbody tr th {\n",
                            "        vertical-align: top;\n",
                            "    }\n",
                            "\n",
                            "    .dataframe thead th {\n",
                            "        text-align: right;\n",
                            "    }\n",
                            "</style>\n",
                            "<table border=\"1\" class=\"dataframe\">\n",
                            "  <thead>\n",
                            "    <tr style=\"text-align: right;\">\n",
                            "      <th></th>\n",
                            "      <th>SNo</th>\n",
                            "      <th>year</th>\n",
                            "      <th>month</th>\n",
                            "      <th>interest_rate</th>\n",
                            "      <th>unemployment_rate</th>\n",
                            "      <th>index_price</th>\n",
                            "    </tr>\n",
                            "  </thead>\n",
                            "  <tbody>\n",
                            "    <tr>\n",
                            "      <th>0</th>\n",
                            "      <td>0</td>\n",
                            "      <td>2017</td>\n",
                            "      <td>12</td>\n",
                            "      <td>2.75</td>\n",
                            "      <td>5.3</td>\n",
                            "      <td>1464</td>\n",
                            "    </tr>\n",
                            "    <tr>\n",
                            "      <th>1</th>\n",
                            "      <td>1</td>\n",
                            "      <td>2017</td>\n",
                            "      <td>11</td>\n",
                            "      <td>2.50</td>\n",
                            "      <td>5.3</td>\n",
                            "      <td>1394</td>\n",
                            "    </tr>\n",
                            "    <tr>\n",
                            "      <th>2</th>\n",
                            "      <td>2</td>\n",
                            "      <td>2017</td>\n",
                            "      <td>10</td>\n",
                            "      <td>2.50</td>\n",
                            "      <td>5.3</td>\n",
                            "      <td>1357</td>\n",
                            "    </tr>\n",
                            "    <tr>\n",
                            "      <th>3</th>\n",
                            "      <td>3</td>\n",
                            "      <td>2017</td>\n",
                            "      <td>9</td>\n",
                            "      <td>2.50</td>\n",
                            "      <td>5.3</td>\n",
                            "      <td>1293</td>\n",
                            "    </tr>\n",
                            "    <tr>\n",
                            "      <th>4</th>\n",
                            "      <td>4</td>\n",
                            "      <td>2017</td>\n",
                            "      <td>8</td>\n",
                            "      <td>2.50</td>\n",
                            "      <td>5.4</td>\n",
                            "      <td>1256</td>\n",
                            "    </tr>\n",
                            "  </tbody>\n",
                            "</table>\n",
                            "</div>"
                        ],
                        "text/plain": [
                            "   SNo  year  month  interest_rate  unemployment_rate  index_price\n",
                            "0    0  2017     12           2.75                5.3         1464\n",
                            "1    1  2017     11           2.50                5.3         1394\n",
                            "2    2  2017     10           2.50                5.3         1357\n",
                            "3    3  2017      9           2.50                5.3         1293\n",
                            "4    4  2017      8           2.50                5.4         1256"
                        ]
                    },
                    "execution_count": 2,
                    "metadata": {},
                    "output_type": "execute_result"
                }
            ],
            "source": [
                "df_index=pd.read_csv('economic_index.csv')\n",
                "df_index.head(5)"
            ]
        },
        {
            "cell_type": "code",
            "execution_count": 3,
            "id": "54fa5bd3",
            "metadata": {},
            "outputs": [
                {
                    "data": {
                        "text/plain": [
                            "<Axes: >"
                        ]
                    },
                    "execution_count": 3,
                    "metadata": {},
                    "output_type": "execute_result"
                },
                {
                    "data": {
                        "image/png": "[encoded data removed]",
                        "text/plain": [
                            "<Figure size 640x480 with 2 Axes>"
                        ]
                    },
                    "metadata": {},
                    "output_type": "display_data"
                }
            ],
            "source": [
                "sns.heatmap(df_index.corr())"
            ]
        },
        {
            "cell_type": "code",
            "execution_count": 4,
            "id": "03d6e64b",
            "metadata": {},
            "outputs": [
                {
                    "data": {
                        "text/plain": [
                            "<seaborn.axisgrid.PairGrid at 0x2ada4279880>"
                        ]
                    },
                    "execution_count": 4,
                    "metadata": {},
                    "output_type": "execute_result"
                },
                {
                    "data": {
                        "image/png": "[encoded data removed]",
                        "text/plain": [
                            "<Figure size 1500x1500 with 42 Axes>"
                        ]
                    },
                    "metadata": {},
                    "output_type": "display_data"
                }
            ],
            "source": [
                "sns.pairplot(df_index)"
            ]
        },
        {
            "cell_type": "code",
            "execution_count": 5,
            "id": "b60c395d",
            "metadata": {},
            "outputs": [
                {
                    "data": {
                        "application/vnd.microsoft.datawrangler.viewer.v0+json": {
                            "columns": [
                                {
                                    "name": "index",
                                    "rawType": "object",
                                    "type": "string"
                                },
                                {
                                    "name": "0",
                                    "rawType": "int64",
                                    "type": "integer"
                                }
                            ],
                            "ref": "2c11295e-2572-4698-ab97-422c2be77cca",
                            "rows": [
                                [
                                    "SNo",
                                    "0"
                                ],
                                [
                                    "year",
                                    "0"
                                ],
                                [
                                    "month",
                                    "0"
                                ],
                                [
                                    "interest_rate",
                                    "0"
                                ],
                                [
                                    "unemployment_rate",
                                    "0"
                                ],
                                [
                                    "index_price",
                                    "0"
                                ]
                            ],
                            "shape": {
                                "columns": 1,
                                "rows": 6
                            }
                        },
                        "text/plain": [
                            "SNo                  0\n",
                            "year                 0\n",
                            "month                0\n",
                            "interest_rate        0\n",
                            "unemployment_rate    0\n",
                            "index_price          0\n",
                            "dtype: int64"
                        ]
                    },
                    "execution_count": 5,
                    "metadata": {},
                    "output_type": "execute_result"
                }
            ],
            "source": [
                "df_index.isnull().sum()"
            ]
        },
        {
            "cell_type": "code",
            "execution_count": 6,
            "id": "c24b0a2f",
            "metadata": {},
            "outputs": [
                {
                    "data": {
                        "application/vnd.microsoft.datawrangler.viewer.v0+json": {
                            "columns": [
                                {
                                    "name": "index",
                                    "rawType": "object",
                                    "type": "string"
                                },
                                {
                                    "name": "SNo",
                                    "rawType": "float64",
                                    "type": "float"
                                },
                                {
                                    "name": "year",
                                    "rawType": "float64",
                                    "type": "float"
                                },
                                {
                                    "name": "month",
                                    "rawType": "float64",
                                    "type": "float"
                                },
                                {
                                    "name": "interest_rate",
                                    "rawType": "float64",
                                    "type": "float"
                                },
                                {
                                    "name": "unemployment_rate",
                                    "rawType": "float64",
                                    "type": "float"
                                },
                                {
                                    "name": "index_price",
                                    "rawType": "float64",
                                    "type": "float"
                                }
                            ],
                            "ref": "557c9cb6-793c-4052-b29f-7f4eaf8a5d6f",
                            "rows": [
                                [
                                    "count",
                                    "24.0",
                                    "24.0",
                                    "24.0",
                                    "24.0",
                                    "24.0",
                                    "24.0"
                                ],
                                [
                                    "mean",
                                    "11.5",
                                    "2016.5",
                                    "6.5",
                                    "2.0729166666666665",
                                    "5.775000000000001",
                                    "1070.0833333333333"
                                ],
                                [
                                    "std",
                                    "7.0710678118654755",
                                    "0.5107539184552492",
                                    "3.526298712346368",
                                    "0.34952737240160603",
                                    "0.3300197622541124",
                                    "210.7353412647509"
                                ],
                                [
                                    "min",
                                    "0.0",
                                    "2016.0",
                                    "1.0",
                                    "1.75",
                                    "5.3",
                                    "704.0"
                                ],
                                [
                                    "25%",
                                    "5.75",
                                    "2016.0",
                                    "3.75",
                                    "1.75",
                                    "5.5",
                                    "928.25"
                                ],
                                [
                                    "50%",
                                    "11.5",
                                    "2016.5",
                                    "6.5",
                                    "2.0",
                                    "5.85",
                                    "1061.0"
                                ],
                                [
                                    "75%",
                                    "17.25",
                                    "2017.0",
                                    "9.25",
                                    "2.5",
                                    "6.1",
                                    "1239.0"
                                ],
                                [
                                    "max",
                                    "23.0",
                                    "2017.0",
                                    "12.0",
                                    "2.75",
                                    "6.2",
                                    "1464.0"
                                ]
                            ],
                            "shape": {
                                "columns": 6,
                                "rows": 8
                            }
                        },
                        "text/html": [
                            "<div>\n",
                            "<style scoped>\n",
                            "    .dataframe tbody tr th:only-of-type {\n",
                            "        vertical-align: middle;\n",
                            "    }\n",
                            "\n",
                            "    .dataframe tbody tr th {\n",
                            "        vertical-align: top;\n",
                            "    }\n",
                            "\n",
                            "    .dataframe thead th {\n",
                            "        text-align: right;\n",
                            "    }\n",
                            "</style>\n",
                            "<table border=\"1\" class=\"dataframe\">\n",
                            "  <thead>\n",
                            "    <tr style=\"text-align: right;\">\n",
                            "      <th></th>\n",
                            "      <th>SNo</th>\n",
                            "      <th>year</th>\n",
                            "      <th>month</th>\n",
                            "      <th>interest_rate</th>\n",
                            "      <th>unemployment_rate</th>\n",
                            "      <th>index_price</th>\n",
                            "    </tr>\n",
                            "  </thead>\n",
                            "  <tbody>\n",
                            "    <tr>\n",
                            "      <th>count</th>\n",
                            "      <td>24.000000</td>\n",
                            "      <td>24.000000</td>\n",
                            "      <td>24.000000</td>\n",
                            "      <td>24.000000</td>\n",
                            "      <td>24.00000</td>\n",
                            "      <td>24.000000</td>\n",
                            "    </tr>\n",
                            "    <tr>\n",
                            "      <th>mean</th>\n",
                            "      <td>11.500000</td>\n",
                            "      <td>2016.500000</td>\n",
                            "      <td>6.500000</td>\n",
                            "      <td>2.072917</td>\n",
                            "      <td>5.77500</td>\n",
                            "      <td>1070.083333</td>\n",
                            "    </tr>\n",
                            "    <tr>\n",
                            "      <th>std</th>\n",
                            "      <td>7.071068</td>\n",
                            "      <td>0.510754</td>\n",
                            "      <td>3.526299</td>\n",
                            "      <td>0.349527</td>\n",
                            "      <td>0.33002</td>\n",
                            "      <td>210.735341</td>\n",
                            "    </tr>\n",
                            "    <tr>\n",
                            "      <th>min</th>\n",
                            "      <td>0.000000</td>\n",
                            "      <td>2016.000000</td>\n",
                            "      <td>1.000000</td>\n",
                            "      <td>1.750000</td>\n",
                            "      <td>5.30000</td>\n",
                            "      <td>704.000000</td>\n",
                            "    </tr>\n",
                            "    <tr>\n",
                            "      <th>25%</th>\n",
                            "      <td>5.750000</td>\n",
                            "      <td>2016.000000</td>\n",
                            "      <td>3.750000</td>\n",
                            "      <td>1.750000</td>\n",
                            "      <td>5.50000</td>\n",
                            "      <td>928.250000</td>\n",
                            "    </tr>\n",
                            "    <tr>\n",
                            "      <th>50%</th>\n",
                            "      <td>11.500000</td>\n",
                            "      <td>2016.500000</td>\n",
                            "      <td>6.500000</td>\n",
                            "      <td>2.000000</td>\n",
                            "      <td>5.85000</td>\n",
                            "      <td>1061.000000</td>\n",
                            "    </tr>\n",
                            "    <tr>\n",
                            "      <th>75%</th>\n",
                            "      <td>17.250000</td>\n",
                            "      <td>2017.000000</td>\n",
                            "      <td>9.250000</td>\n",
                            "      <td>2.500000</td>\n",
                            "      <td>6.10000</td>\n",
                            "      <td>1239.000000</td>\n",
                            "    </tr>\n",
                            "    <tr>\n",
                            "      <th>max</th>\n",
                            "      <td>23.000000</td>\n",
                            "      <td>2017.000000</td>\n",
                            "      <td>12.000000</td>\n",
                            "      <td>2.750000</td>\n",
                            "      <td>6.20000</td>\n",
                            "      <td>1464.000000</td>\n",
                            "    </tr>\n",
                            "  </tbody>\n",
                            "</table>\n",
                            "</div>"
                        ],
                        "text/plain": [
                            "             SNo         year      month  interest_rate  unemployment_rate  \\\n",
                            "count  24.000000    24.000000  24.000000      24.000000           24.00000   \n",
                            "mean   11.500000  2016.500000   6.500000       2.072917            5.77500   \n",
                            "std     7.071068     0.510754   3.526299       0.349527            0.33002   \n",
                            "min     0.000000  2016.000000   1.000000       1.750000            5.30000   \n",
                            "25%     5.750000  2016.000000   3.750000       1.750000            5.50000   \n",
                            "50%    11.500000  2016.500000   6.500000       2.000000            5.85000   \n",
                            "75%    17.250000  2017.000000   9.250000       2.500000            6.10000   \n",
                            "max    23.000000  2017.000000  12.000000       2.750000            6.20000   \n",
                            "\n",
                            "       index_price  \n",
                            "count    24.000000  \n",
                            "mean   1070.083333  \n",
                            "std     210.735341  \n",
                            "min     704.000000  \n",
                            "25%     928.250000  \n",
                            "50%    1061.000000  \n",
                            "75%    1239.000000  \n",
                            "max    1464.000000  "
                        ]
                    },
                    "execution_count": 6,
                    "metadata": {},
                    "output_type": "execute_result"
                }
            ],
            "source": [
                "df_index.describe()"
            ]
        },
        {
            "cell_type": "code",
            "execution_count": null,
            "id": "ddab10a9",
            "metadata": {},
            "outputs": [],
            "source": []
        },
        {
            "cell_type": "code",
            "execution_count": null,
            "id": "1ac5db37",
            "metadata": {},
            "outputs": [],
            "source": []
        },
        {
            "cell_type": "code",
            "execution_count": null,
            "id": "338a772b",
            "metadata": {},
            "outputs": [],
            "source": []
        },
        {
            "cell_type": "code",
            "execution_count": null,
            "id": "512a95ad",
            "metadata": {},
            "outputs": [],
            "source": []
        },
        {
            "cell_type": "code",
            "execution_count": 12,
            "id": "7013589e",
            "metadata": {},
            "outputs": [
                {
                    "ename": "KeyError",
                    "evalue": "\"['SNo', 'year', 'month'] not found in axis\"",
                    "output_type": "error",
                    "traceback": [
                        "\u001b[31m---------------------------------------------------------------------------\u001b[39m",
                        "\u001b[31mKeyError\u001b[39m                                  Traceback (most recent call last)",
                        "\u001b[36mCell\u001b[39m\u001b[36m \u001b[39m\u001b[32mIn[12]\u001b[39m\u001b[32m, line 2\u001b[39m\n\u001b[32m      1\u001b[39m \u001b[38;5;66;03m## drop unnecesssary col\u001b[39;00m\n\u001b[32m----> \u001b[39m\u001b[32m2\u001b[39m \u001b[43mdf_index\u001b[49m\u001b[43m.\u001b[49m\u001b[43mdrop\u001b[49m\u001b[43m(\u001b[49m\u001b[43mcolumns\u001b[49m\u001b[43m=\u001b[49m\u001b[43m[\u001b[49m\u001b[33;43m'\u001b[39;49m\u001b[33;43mSNo\u001b[39;49m\u001b[33;43m'\u001b[39;49m\u001b[43m,\u001b[49m\u001b[33;43m'\u001b[39;49m\u001b[33;43myear\u001b[39;49m\u001b[33;43m'\u001b[39;49m\u001b[43m,\u001b[49m\u001b[33;43m'\u001b[39;49m\u001b[33;43mmonth\u001b[39;49m\u001b[33;43m'\u001b[39;49m\u001b[43m]\u001b[49m\u001b[43m,\u001b[49m\u001b[43maxis\u001b[49m\u001b[43m=\u001b[49m\u001b[32;43m1\u001b[39;49m\u001b[43m)\u001b[49m\n\u001b[32m      3\u001b[39m df_index\n",
                        "\u001b[36mFile \u001b[39m\u001b[32md:\\ML\\myenv\\Lib\\site-packages\\pandas\\core\\frame.py:5581\u001b[39m, in \u001b[36mDataFrame.drop\u001b[39m\u001b[34m(self, labels, axis, index, columns, level, inplace, errors)\u001b[39m\n\u001b[32m   5433\u001b[39m \u001b[38;5;28;01mdef\u001b[39;00m\u001b[38;5;250m \u001b[39m\u001b[34mdrop\u001b[39m(\n\u001b[32m   5434\u001b[39m     \u001b[38;5;28mself\u001b[39m,\n\u001b[32m   5435\u001b[39m     labels: IndexLabel | \u001b[38;5;28;01mNone\u001b[39;00m = \u001b[38;5;28;01mNone\u001b[39;00m,\n\u001b[32m   (...)\u001b[39m\u001b[32m   5442\u001b[39m     errors: IgnoreRaise = \u001b[33m\"\u001b[39m\u001b[33mraise\u001b[39m\u001b[33m\"\u001b[39m,\n\u001b[32m   5443\u001b[39m ) -> DataFrame | \u001b[38;5;28;01mNone\u001b[39;00m:\n\u001b[32m   5444\u001b[39m \u001b[38;5;250m    \u001b[39m\u001b[33;03m\"\"\"\u001b[39;00m\n\u001b[32m   5445\u001b[39m \u001b[33;03m    Drop specified labels from rows or columns.\u001b[39;00m\n\u001b[32m   5446\u001b[39m \n\u001b[32m   (...)\u001b[39m\u001b[32m   5579\u001b[39m \u001b[33;03m            weight  1.0     0.8\u001b[39;00m\n\u001b[32m   5580\u001b[39m \u001b[33;03m    \"\"\"\u001b[39;00m\n\u001b[32m-> \u001b[39m\u001b[32m5581\u001b[39m     \u001b[38;5;28;01mreturn\u001b[39;00m \u001b[38;5;28;43msuper\u001b[39;49m\u001b[43m(\u001b[49m\u001b[43m)\u001b[49m\u001b[43m.\u001b[49m\u001b[43mdrop\u001b[49m\u001b[43m(\u001b[49m\n\u001b[32m   5582\u001b[39m \u001b[43m        \u001b[49m\u001b[43mlabels\u001b[49m\u001b[43m=\u001b[49m\u001b[43mlabels\u001b[49m\u001b[43m,\u001b[49m\n\u001b[32m   5583\u001b[39m \u001b[43m        \u001b[49m\u001b[43maxis\u001b[49m\u001b[43m=\u001b[49m\u001b[43maxis\u001b[49m\u001b[43m,\u001b[49m\n\u001b[32m   5584\u001b[39m \u001b[43m        \u001b[49m\u001b[43mindex\u001b[49m\u001b[43m=\u001b[49m\u001b[43mindex\u001b[49m\u001b[43m,\u001b[49m\n\u001b[32m   5585\u001b[39m \u001b[43m        \u001b[49m\u001b[43mcolumns\u001b[49m\u001b[43m=\u001b[49m\u001b[43mcolumns\u001b[49m\u001b[43m,\u001b[49m\n\u001b[32m   5586\u001b[39m \u001b[43m        \u001b[49m\u001b[43mlevel\u001b[49m\u001b[43m=\u001b[49m\u001b[43mlevel\u001b[49m\u001b[43m,\u001b[49m\n\u001b[32m   5587\u001b[39m \u001b[43m        \u001b[49m\u001b[43minplace\u001b[49m\u001b[43m=\u001b[49m\u001b[43minplace\u001b[49m\u001b[43m,\u001b[49m\n\u001b[32m   5588\u001b[39m \u001b[43m        \u001b[49m\u001b[43merrors\u001b[49m\u001b[43m=\u001b[49m\u001b[43merrors\u001b[49m\u001b[43m,\u001b[49m\n\u001b[32m   5589\u001b[39m \u001b[43m    \u001b[49m\u001b[43m)\u001b[49m\n",
                        "\u001b[36mFile \u001b[39m\u001b[32md:\\ML\\myenv\\Lib\\site-packages\\pandas\\core\\generic.py:4788\u001b[39m, in \u001b[36mNDFrame.drop\u001b[39m\u001b[34m(self, labels, axis, index, columns, level, inplace, errors)\u001b[39m\n\u001b[32m   4786\u001b[39m \u001b[38;5;28;01mfor\u001b[39;00m axis, labels \u001b[38;5;129;01min\u001b[39;00m axes.items():\n\u001b[32m   4787\u001b[39m     \u001b[38;5;28;01mif\u001b[39;00m labels \u001b[38;5;129;01mis\u001b[39;00m \u001b[38;5;129;01mnot\u001b[39;00m \u001b[38;5;28;01mNone\u001b[39;00m:\n\u001b[32m-> \u001b[39m\u001b[32m4788\u001b[39m         obj = \u001b[43mobj\u001b[49m\u001b[43m.\u001b[49m\u001b[43m_drop_axis\u001b[49m\u001b[43m(\u001b[49m\u001b[43mlabels\u001b[49m\u001b[43m,\u001b[49m\u001b[43m \u001b[49m\u001b[43maxis\u001b[49m\u001b[43m,\u001b[49m\u001b[43m \u001b[49m\u001b[43mlevel\u001b[49m\u001b[43m=\u001b[49m\u001b[43mlevel\u001b[49m\u001b[43m,\u001b[49m\u001b[43m \u001b[49m\u001b[43merrors\u001b[49m\u001b[43m=\u001b[49m\u001b[43merrors\u001b[49m\u001b[43m)\u001b[49m\n\u001b[32m   4790\u001b[39m \u001b[38;5;28;01mif\u001b[39;00m inplace:\n\u001b[32m   4791\u001b[39m     \u001b[38;5;28mself\u001b[39m._update_inplace(obj)\n",
                        "\u001b[36mFile \u001b[39m\u001b[32md:\\ML\\myenv\\Lib\\site-packages\\pandas\\core\\generic.py:4830\u001b[39m, in \u001b[36mNDFrame._drop_axis\u001b[39m\u001b[34m(self, labels, axis, level, errors, only_slice)\u001b[39m\n\u001b[32m   4828\u001b[39m         new_axis = axis.drop(labels, level=level, errors=errors)\n\u001b[32m   4829\u001b[39m     \u001b[38;5;28;01melse\u001b[39;00m:\n\u001b[32m-> \u001b[39m\u001b[32m4830\u001b[39m         new_axis = \u001b[43maxis\u001b[49m\u001b[43m.\u001b[49m\u001b[43mdrop\u001b[49m\u001b[43m(\u001b[49m\u001b[43mlabels\u001b[49m\u001b[43m,\u001b[49m\u001b[43m \u001b[49m\u001b[43merrors\u001b[49m\u001b[43m=\u001b[49m\u001b[43merrors\u001b[49m\u001b[43m)\u001b[49m\n\u001b[32m   4831\u001b[39m     indexer = axis.get_indexer(new_axis)\n\u001b[32m   4833\u001b[39m \u001b[38;5;66;03m# Case for non-unique axis\u001b[39;00m\n\u001b[32m   4834\u001b[39m \u001b[38;5;28;01melse\u001b[39;00m:\n",
                        "\u001b[36mFile \u001b[39m\u001b[32md:\\ML\\myenv\\Lib\\site-packages\\pandas\\core\\indexes\\base.py:7070\u001b[39m, in \u001b[36mIndex.drop\u001b[39m\u001b[34m(self, labels, errors)\u001b[39m\n\u001b[32m   7068\u001b[39m \u001b[38;5;28;01mif\u001b[39;00m mask.any():\n\u001b[32m   7069\u001b[39m     \u001b[38;5;28;01mif\u001b[39;00m errors != \u001b[33m\"\u001b[39m\u001b[33mignore\u001b[39m\u001b[33m\"\u001b[39m:\n\u001b[32m-> \u001b[39m\u001b[32m7070\u001b[39m         \u001b[38;5;28;01mraise\u001b[39;00m \u001b[38;5;167;01mKeyError\u001b[39;00m(\u001b[33mf\u001b[39m\u001b[33m\"\u001b[39m\u001b[38;5;132;01m{\u001b[39;00mlabels[mask].tolist()\u001b[38;5;132;01m}\u001b[39;00m\u001b[33m not found in axis\u001b[39m\u001b[33m\"\u001b[39m)\n\u001b[32m   7071\u001b[39m     indexer = indexer[~mask]\n\u001b[32m   7072\u001b[39m \u001b[38;5;28;01mreturn\u001b[39;00m \u001b[38;5;28mself\u001b[39m.delete(indexer)\n",
                        "\u001b[31mKeyError\u001b[39m: \"['SNo', 'year', 'month'] not found in axis\""
                    ]
                }
            ],
            "source": [
                "## drop unnecesssary col\n",
                "df_index.drop(columns=['SNo','year','month'],axis=1)\n",
                "df_index"
            ]
        },
        {
            "cell_type": "code",
            "execution_count": 16,
            "id": "844e5d3f",
            "metadata": {},
            "outputs": [
                {
                    "data": {
                        "application/vnd.microsoft.datawrangler.viewer.v0+json": {
                            "columns": [
                                {
                                    "name": "index",
                                    "rawType": "object",
                                    "type": "string"
                                },
                                {
                                    "name": "0",
                                    "rawType": "int64",
                                    "type": "integer"
                                }
                            ],
                            "ref": "c056a76a-8235-4602-abdf-e12a62e94326",
                            "rows": [
                                [
                                    "interest_rate",
                                    "0"
                                ],
                                [
                                    "unemployment_rate",
                                    "0"
                                ],
                                [
                                    "index_price",
                                    "0"
                                ]
                            ],
                            "shape": {
                                "columns": 1,
                                "rows": 3
                            }
                        },
                        "text/plain": [
                            "interest_rate        0\n",
                            "unemployment_rate    0\n",
                            "index_price          0\n",
                            "dtype: int64"
                        ]
                    },
                    "execution_count": 16,
                    "metadata": {},
                    "output_type": "execute_result"
                }
            ],
            "source": [
                "df_index.head(5)\n",
                "df_index.isnull().sum()"
            ]
        },
        {
            "cell_type": "code",
            "execution_count": 17,
            "id": "9ffc35a0",
            "metadata": {},
            "outputs": [
                {
                    "data": {
                        "text/plain": [
                            "<seaborn.axisgrid.PairGrid at 0x1fde67e41a0>"
                        ]
                    },
                    "execution_count": 17,
                    "metadata": {},
                    "output_type": "execute_result"
                },
                {
                    "data": {
                        "image/png": "[encoded data removed]",
                        "text/plain": [
                            "<Figure size 750x750 with 12 Axes>"
                        ]
                    },
                    "metadata": {},
                    "output_type": "display_data"
                }
            ],
            "source": [
                "## lets do some visualization\n",
                "sns.pairplot(df_index)"
            ]
        },
        {
            "cell_type": "code",
            "execution_count": 18,
            "id": "c8883d8f",
            "metadata": {},
            "outputs": [
                {
                    "data": {
                        "application/vnd.microsoft.datawrangler.viewer.v0+json": {
                            "columns": [
                                {
                                    "name": "index",
                                    "rawType": "object",
                                    "type": "string"
                                },
                                {
                                    "name": "interest_rate",
                                    "rawType": "float64",
                                    "type": "float"
                                },
                                {
                                    "name": "unemployment_rate",
                                    "rawType": "float64",
                                    "type": "float"
                                },
                                {
                                    "name": "index_price",
                                    "rawType": "float64",
                                    "type": "float"
                                }
                            ],
                            "ref": "5b054de0-42fc-40cc-964e-2fb8b0b5d22a",
                            "rows": [
                                [
                                    "interest_rate",
                                    "1.0",
                                    "-0.9258136773302879",
                                    "0.9357932222393659"
                                ],
                                [
                                    "unemployment_rate",
                                    "-0.9258136773302879",
                                    "1.0",
                                    "-0.9223375779383671"
                                ],
                                [
                                    "index_price",
                                    "0.9357932222393659",
                                    "-0.9223375779383671",
                                    "1.0"
                                ]
                            ],
                            "shape": {
                                "columns": 3,
                                "rows": 3
                            }
                        },
                        "text/html": [
                            "<div>\n",
                            "<style scoped>\n",
                            "    .dataframe tbody tr th:only-of-type {\n",
                            "        vertical-align: middle;\n",
                            "    }\n",
                            "\n",
                            "    .dataframe tbody tr th {\n",
                            "        vertical-align: top;\n",
                            "    }\n",
                            "\n",
                            "    .dataframe thead th {\n",
                            "        text-align: right;\n",
                            "    }\n",
                            "</style>\n",
                            "<table border=\"1\" class=\"dataframe\">\n",
                            "  <thead>\n",
                            "    <tr style=\"text-align: right;\">\n",
                            "      <th></th>\n",
                            "      <th>interest_rate</th>\n",
                            "      <th>unemployment_rate</th>\n",
                            "      <th>index_price</th>\n",
                            "    </tr>\n",
                            "  </thead>\n",
                            "  <tbody>\n",
                            "    <tr>\n",
                            "      <th>interest_rate</th>\n",
                            "      <td>1.000000</td>\n",
                            "      <td>-0.925814</td>\n",
                            "      <td>0.935793</td>\n",
                            "    </tr>\n",
                            "    <tr>\n",
                            "      <th>unemployment_rate</th>\n",
                            "      <td>-0.925814</td>\n",
                            "      <td>1.000000</td>\n",
                            "      <td>-0.922338</td>\n",
                            "    </tr>\n",
                            "    <tr>\n",
                            "      <th>index_price</th>\n",
                            "      <td>0.935793</td>\n",
                            "      <td>-0.922338</td>\n",
                            "      <td>1.000000</td>\n",
                            "    </tr>\n",
                            "  </tbody>\n",
                            "</table>\n",
                            "</div>"
                        ],
                        "text/plain": [
                            "                   interest_rate  unemployment_rate  index_price\n",
                            "interest_rate           1.000000          -0.925814     0.935793\n",
                            "unemployment_rate      -0.925814           1.000000    -0.922338\n",
                            "index_price             0.935793          -0.922338     1.000000"
                        ]
                    },
                    "execution_count": 18,
                    "metadata": {},
                    "output_type": "execute_result"
                }
            ],
            "source": [
                "df_index.corr()"
            ]
        },
        {
            "cell_type": "code",
            "execution_count": 22,
            "id": "9b3aa025",
            "metadata": {},
            "outputs": [
                {
                    "data": {
                        "text/plain": [
                            "Text(0, 0.5, 'unemployment_rate')"
                        ]
                    },
                    "execution_count": 22,
                    "metadata": {},
                    "output_type": "execute_result"
                },
                {
                    "data": {
                        "image/png": "[encoded data removed]",
                        "text/plain": [
                            "<Figure size 640x480 with 1 Axes>"
                        ]
                    },
                    "metadata": {},
                    "output_type": "display_data"
                }
            ],
            "source": [
                "### visualize the datappoints more slosely\n",
                "\n",
                "plt.scatter(df['interest_rate'],df['unemployment_rate'],color='r')\n",
                "plt.xlabel(\"Interset_Rate\")\n",
                "plt.ylabel(\"unemployment_rate\")"
            ]
        },
        {
            "cell_type": "code",
            "execution_count": 26,
            "id": "a763eab2",
            "metadata": {},
            "outputs": [
                {
                    "data": {
                        "application/vnd.microsoft.datawrangler.viewer.v0+json": {
                            "columns": [
                                {
                                    "name": "index",
                                    "rawType": "int64",
                                    "type": "integer"
                                },
                                {
                                    "name": "index_price",
                                    "rawType": "int64",
                                    "type": "integer"
                                }
                            ],
                            "ref": "4a764a29-1978-46be-a1f1-8ff4c9df8eff",
                            "rows": [
                                [
                                    "0",
                                    "1464"
                                ],
                                [
                                    "1",
                                    "1394"
                                ],
                                [
                                    "2",
                                    "1357"
                                ],
                                [
                                    "3",
                                    "1293"
                                ],
                                [
                                    "4",
                                    "1256"
                                ],
                                [
                                    "5",
                                    "1254"
                                ],
                                [
                                    "6",
                                    "1234"
                                ],
                                [
                                    "7",
                                    "1195"
                                ],
                                [
                                    "8",
                                    "1159"
                                ],
                                [
                                    "9",
                                    "1167"
                                ],
                                [
                                    "10",
                                    "1130"
                                ],
                                [
                                    "11",
                                    "1075"
                                ],
                                [
                                    "12",
                                    "1047"
                                ],
                                [
                                    "13",
                                    "965"
                                ],
                                [
                                    "14",
                                    "943"
                                ],
                                [
                                    "15",
                                    "958"
                                ],
                                [
                                    "16",
                                    "971"
                                ],
                                [
                                    "17",
                                    "949"
                                ],
                                [
                                    "18",
                                    "884"
                                ],
                                [
                                    "19",
                                    "866"
                                ],
                                [
                                    "20",
                                    "876"
                                ],
                                [
                                    "21",
                                    "822"
                                ],
                                [
                                    "22",
                                    "704"
                                ],
                                [
                                    "23",
                                    "719"
                                ]
                            ],
                            "shape": {
                                "columns": 1,
                                "rows": 24
                            }
                        },
                        "text/plain": [
                            "0     1464\n",
                            "1     1394\n",
                            "2     1357\n",
                            "3     1293\n",
                            "4     1256\n",
                            "5     1254\n",
                            "6     1234\n",
                            "7     1195\n",
                            "8     1159\n",
                            "9     1167\n",
                            "10    1130\n",
                            "11    1075\n",
                            "12    1047\n",
                            "13     965\n",
                            "14     943\n",
                            "15     958\n",
                            "16     971\n",
                            "17     949\n",
                            "18     884\n",
                            "19     866\n",
                            "20     876\n",
                            "21     822\n",
                            "22     704\n",
                            "23     719\n",
                            "Name: index_price, dtype: int64"
                        ]
                    },
                    "execution_count": 26,
                    "metadata": {},
                    "output_type": "execute_result"
                }
            ],
            "source": [
                "## get my independent and dependent features\n",
                "\n",
                "X=df_index[['interest_rate','unemployment_rate']]\n",
                "y=df_index['index_price']\n",
                "y"
            ]
        },
        {
            "cell_type": "code",
            "execution_count": null,
            "id": "85822009",
            "metadata": {},
            "outputs": [
                {
                    "name": "stdout",
                    "output_type": "stream",
                    "text": [
                        "    interest_rate  unemployment_rate\n",
                        "13           1.75                5.9\n",
                        "1            2.50                5.3\n",
                        "21           1.75                6.2\n",
                        "5            2.50                5.6\n",
                        "2            2.50                5.3\n",
                        "12           2.00                6.0\n",
                        "15           1.75                6.1\n",
                        "3            2.50                5.3\n",
                        "4            2.50                5.4\n",
                        "22           1.75                6.2\n",
                        "17           1.75                6.1\n",
                        "20           1.75                5.9\n",
                        "23           1.75                6.1\n",
                        "7            2.25                5.5\n",
                        "10           2.00                5.7\n",
                        "14           1.75                5.8\n",
                        "19           1.75                6.1\n",
                        "6            2.50                5.5\n"
                    ]
                }
            ],
            "source": [
                "## train test split\n",
                "\n",
                "from sklearn.model_selection import train_test_split\n",
                "X_train,X_test,y_train,y_test=train_test_split(X,y,test_size=0.25,random_state=42)\n"
            ]
        },
        {
            "cell_type": "code",
            "execution_count": 38,
            "id": "f7ef9ae1",
            "metadata": {},
            "outputs": [
                {
                    "data": {
                        "text/plain": [
                            "<Axes: xlabel='interest_rate', ylabel='index_price'>"
                        ]
                    },
                    "execution_count": 38,
                    "metadata": {},
                    "output_type": "execute_result"
                },
                {
                    "data": {
                        "image/png": "[encoded data removed]",
                        "text/plain": [
                            "<Figure size 640x480 with 1 Axes>"
                        ]
                    },
                    "metadata": {},
                    "output_type": "display_data"
                }
            ],
            "source": [
                "sns.regplot(x=df_index['interest_rate'], y=df_index['index_price'])\n"
            ]
        },
        {
            "cell_type": "code",
            "execution_count": 39,
            "id": "a780a14b",
            "metadata": {},
            "outputs": [
                {
                    "data": {
                        "text/plain": [
                            "<Axes: xlabel='interest_rate', ylabel='unemployment_rate'>"
                        ]
                    },
                    "execution_count": 39,
                    "metadata": {},
                    "output_type": "execute_result"
                },
                {
                    "data": {
                        "image/png": "[encoded data removed]",
                        "text/plain": [
                            "<Figure size 640x480 with 1 Axes>"
                        ]
                    },
                    "metadata": {},
                    "output_type": "display_data"
                }
            ],
            "source": [
                "sns.regplot(x=df_index['interest_rate'], y=df_index['unemployment_rate'])\n"
            ]
        },
        {
            "cell_type": "code",
            "execution_count": 40,
            "id": "34bef311",
            "metadata": {},
            "outputs": [
                {
                    "data": {
                        "text/plain": [
                            "<Axes: >"
                        ]
                    },
                    "execution_count": 40,
                    "metadata": {},
                    "output_type": "execute_result"
                },
                {
                    "data": {
                        "image/png": "[encoded data removed]",
                        "text/plain": [
                            "<Figure size 640x480 with 1 Axes>"
                        ]
                    },
                    "metadata": {},
                    "output_type": "display_data"
                }
            ],
            "source": [
                "sns.regplot(x=['unemployment_rate'],y=['index_price'])"
            ]
        },
        {
            "cell_type": "code",
            "execution_count": null,
            "id": "8cfbfafc",
            "metadata": {},
            "outputs": [
                {
                    "name": "stdout",
                    "output_type": "stream",
                    "text": [
                        "StandardScaler()\n",
                        "<class 'sklearn.preprocessing._data.StandardScaler'>\n"
                    ]
                },
                {
                    "data": {
                        "text/plain": [
                            "array([[-0.90115511,  0.37908503],\n",
                            "       [ 1.31077107, -1.48187786],\n",
                            "       [-0.90115511,  1.30956648],\n",
                            "       [ 1.31077107, -0.55139641],\n",
                            "       [ 1.31077107, -1.48187786],\n",
                            "       [-0.16384638,  0.68924552],\n",
                            "       [-0.90115511,  0.999406  ],\n",
                            "       [ 1.31077107, -1.48187786],\n",
                            "       [ 1.31077107, -1.17171738],\n",
                            "       [-0.90115511,  1.30956648],\n",
                            "       [-0.90115511,  0.999406  ],\n",
                            "       [-0.90115511,  0.37908503],\n",
                            "       [-0.90115511,  0.999406  ],\n",
                            "       [ 0.57346234, -0.8615569 ],\n",
                            "       [-0.16384638, -0.24123593],\n",
                            "       [-0.90115511,  0.06892455],\n",
                            "       [-0.90115511,  0.999406  ],\n",
                            "       [ 1.31077107, -0.8615569 ]])"
                        ]
                    },
                    "execution_count": 44,
                    "metadata": {},
                    "output_type": "execute_result"
                }
            ],
            "source": [
                "## standered scale\n",
                "\n",
                "from sklearn.preprocessing import StandardScaler\n",
                "\n",
                "scaler=StandardScaler()\n",
                "print(scaler)\n",
                "print(type(scaler))\n",
                "scaler.fit_transform(X_train)\n"
            ]
        },
        {
            "cell_type": "code",
            "execution_count": null,
            "id": "f71869b0",
            "metadata": {},
            "outputs": [],
            "source": [
                "from sklearn.linear_model import LinearRegression\n",
                "\n",
                "regression=LinearRegression()\n"
            ]
        },
        {
            "cell_type": "code",
            "execution_count": 47,
            "id": "7cbe3fbc",
            "metadata": {},
            "outputs": [
                {
                    "data": {
                        "text/html": [
                            "<style>#sk-container-id-1 {\n",
                            "  /* Definition of color scheme common for light and dark mode */\n",
                            "  --sklearn-color-text: #000;\n",
                            "  --sklearn-color-text-muted: #666;\n",
                            "  --sklearn-color-line: gray;\n",
                            "  /* Definition of color scheme for unfitted estimators */\n",
                            "  --sklearn-color-unfitted-level-0: #fff5e6;\n",
                            "  --sklearn-color-unfitted-level-1: #f6e4d2;\n",
                            "  --sklearn-color-unfitted-level-2: #ffe0b3;\n",
                            "  --sklearn-color-unfitted-level-3: chocolate;\n",
                            "  /* Definition of color scheme for fitted estimators */\n",
                            "  --sklearn-color-fitted-level-0: #f0f8ff;\n",
                            "  --sklearn-color-fitted-level-1: #d4ebff;\n",
                            "  --sklearn-color-fitted-level-2: #b3dbfd;\n",
                            "  --sklearn-color-fitted-level-3: cornflowerblue;\n",
                            "\n",
                            "  /* Specific color for light theme */\n",
                            "  --sklearn-color-text-on-default-background: var(--sg-text-color, var(--theme-code-foreground, var(--jp-content-font-color1, black)));\n",
                            "  --sklearn-color-background: var(--sg-background-color, var(--theme-background, var(--jp-layout-color0, white)));\n",
                            "  --sklearn-color-border-box: var(--sg-text-color, var(--theme-code-foreground, var(--jp-content-font-color1, black)));\n",
                            "  --sklearn-color-icon: #696969;\n",
                            "\n",
                            "  @media (prefers-color-scheme: dark) {\n",
                            "    /* Redefinition of color scheme for dark theme */\n",
                            "    --sklearn-color-text-on-default-background: var(--sg-text-color, var(--theme-code-foreground, var(--jp-content-font-color1, white)));\n",
                            "    --sklearn-color-background: var(--sg-background-color, var(--theme-background, var(--jp-layout-color0, #111)));\n",
                            "    --sklearn-color-border-box: var(--sg-text-color, var(--theme-code-foreground, var(--jp-content-font-color1, white)));\n",
                            "    --sklearn-color-icon: #878787;\n",
                            "  }\n",
                            "}\n",
                            "\n",
                            "#sk-container-id-1 {\n",
                            "  color: var(--sklearn-color-text);\n",
                            "}\n",
                            "\n",
                            "#sk-container-id-1 pre {\n",
                            "  padding: 0;\n",
                            "}\n",
                            "\n",
                            "#sk-container-id-1 input.sk-hidden--visually {\n",
                            "  border: 0;\n",
                            "  clip: rect(1px 1px 1px 1px);\n",
                            "  clip: rect(1px, 1px, 1px, 1px);\n",
                            "  height: 1px;\n",
                            "  margin: -1px;\n",
                            "  overflow: hidden;\n",
                            "  padding: 0;\n",
                            "  position: absolute;\n",
                            "  width: 1px;\n",
                            "}\n",
                            "\n",
                            "#sk-container-id-1 div.sk-dashed-wrapped {\n",
                            "  border: 1px dashed var(--sklearn-color-line);\n",
                            "  margin: 0 0.4em 0.5em 0.4em;\n",
                            "  box-sizing: border-box;\n",
                            "  padding-bottom: 0.4em;\n",
                            "  background-color: var(--sklearn-color-background);\n",
                            "}\n",
                            "\n",
                            "#sk-container-id-1 div.sk-container {\n",
                            "  /* jupyter's `normalize.less` sets `[hidden] { display: none; }`\n",
                            "     but bootstrap.min.css set `[hidden] { display: none !important; }`\n",
                            "     so we also need the `!important` here to be able to override the\n",
                            "     default hidden behavior on the sphinx rendered scikit-learn.org.\n",
                            "     See: https://github.com/scikit-learn/scikit-learn/issues/21755 */\n",
                            "  display: inline-block !important;\n",
                            "  position: relative;\n",
                            "}\n",
                            "\n",
                            "#sk-container-id-1 div.sk-text-repr-fallback {\n",
                            "  display: none;\n",
                            "}\n",
                            "\n",
                            "div.sk-parallel-item,\n",
                            "div.sk-serial,\n",
                            "div.sk-item {\n",
                            "  /* draw centered vertical line to link estimators */\n",
                            "  background-image: linear-gradient(var(--sklearn-color-text-on-default-background), var(--sklearn-color-text-on-default-background));\n",
                            "  background-size: 2px 100%;\n",
                            "  background-repeat: no-repeat;\n",
                            "  background-position: center center;\n",
                            "}\n",
                            "\n",
                            "/* Parallel-specific style estimator block */\n",
                            "\n",
                            "#sk-container-id-1 div.sk-parallel-item::after {\n",
                            "  content: \"\";\n",
                            "  width: 100%;\n",
                            "  border-bottom: 2px solid var(--sklearn-color-text-on-default-background);\n",
                            "  flex-grow: 1;\n",
                            "}\n",
                            "\n",
                            "#sk-container-id-1 div.sk-parallel {\n",
                            "  display: flex;\n",
                            "  align-items: stretch;\n",
                            "  justify-content: center;\n",
                            "  background-color: var(--sklearn-color-background);\n",
                            "  position: relative;\n",
                            "}\n",
                            "\n",
                            "#sk-container-id-1 div.sk-parallel-item {\n",
                            "  display: flex;\n",
                            "  flex-direction: column;\n",
                            "}\n",
                            "\n",
                            "#sk-container-id-1 div.sk-parallel-item:first-child::after {\n",
                            "  align-self: flex-end;\n",
                            "  width: 50%;\n",
                            "}\n",
                            "\n",
                            "#sk-container-id-1 div.sk-parallel-item:last-child::after {\n",
                            "  align-self: flex-start;\n",
                            "  width: 50%;\n",
                            "}\n",
                            "\n",
                            "#sk-container-id-1 div.sk-parallel-item:only-child::after {\n",
                            "  width: 0;\n",
                            "}\n",
                            "\n",
                            "/* Serial-specific style estimator block */\n",
                            "\n",
                            "#sk-container-id-1 div.sk-serial {\n",
                            "  display: flex;\n",
                            "  flex-direction: column;\n",
                            "  align-items: center;\n",
                            "  background-color: var(--sklearn-color-background);\n",
                            "  padding-right: 1em;\n",
                            "  padding-left: 1em;\n",
                            "}\n",
                            "\n",
                            "\n",
                            "/* Toggleable style: style used for estimator/Pipeline/ColumnTransformer box that is\n",
                            "clickable and can be expanded/collapsed.\n",
                            "- Pipeline and ColumnTransformer use this feature and define the default style\n",
                            "- Estimators will overwrite some part of the style using the `sk-estimator` class\n",
                            "*/\n",
                            "\n",
                            "/* Pipeline and ColumnTransformer style (default) */\n",
                            "\n",
                            "#sk-container-id-1 div.sk-toggleable {\n",
                            "  /* Default theme specific background. It is overwritten whether we have a\n",
                            "  specific estimator or a Pipeline/ColumnTransformer */\n",
                            "  background-color: var(--sklearn-color-background);\n",
                            "}\n",
                            "\n",
                            "/* Toggleable label */\n",
                            "#sk-container-id-1 label.sk-toggleable__label {\n",
                            "  cursor: pointer;\n",
                            "  display: flex;\n",
                            "  width: 100%;\n",
                            "  margin-bottom: 0;\n",
                            "  padding: 0.5em;\n",
                            "  box-sizing: border-box;\n",
                            "  text-align: center;\n",
                            "  align-items: start;\n",
                            "  justify-content: space-between;\n",
                            "  gap: 0.5em;\n",
                            "}\n",
                            "\n",
                            "#sk-container-id-1 label.sk-toggleable__label .caption {\n",
                            "  font-size: 0.6rem;\n",
                            "  font-weight: lighter;\n",
                            "  color: var(--sklearn-color-text-muted);\n",
                            "}\n",
                            "\n",
                            "#sk-container-id-1 label.sk-toggleable__label-arrow:before {\n",
                            "  /* Arrow on the left of the label */\n",
                            "  content: \"▸\";\n",
                            "  float: left;\n",
                            "  margin-right: 0.25em;\n",
                            "  color: var(--sklearn-color-icon);\n",
                            "}\n",
                            "\n",
                            "#sk-container-id-1 label.sk-toggleable__label-arrow:hover:before {\n",
                            "  color: var(--sklearn-color-text);\n",
                            "}\n",
                            "\n",
                            "/* Toggleable content - dropdown */\n",
                            "\n",
                            "#sk-container-id-1 div.sk-toggleable__content {\n",
                            "  display: none;\n",
                            "  text-align: left;\n",
                            "  /* unfitted */\n",
                            "  background-color: var(--sklearn-color-unfitted-level-0);\n",
                            "}\n",
                            "\n",
                            "#sk-container-id-1 div.sk-toggleable__content.fitted {\n",
                            "  /* fitted */\n",
                            "  background-color: var(--sklearn-color-fitted-level-0);\n",
                            "}\n",
                            "\n",
                            "#sk-container-id-1 div.sk-toggleable__content pre {\n",
                            "  margin: 0.2em;\n",
                            "  border-radius: 0.25em;\n",
                            "  color: var(--sklearn-color-text);\n",
                            "  /* unfitted */\n",
                            "  background-color: var(--sklearn-color-unfitted-level-0);\n",
                            "}\n",
                            "\n",
                            "#sk-container-id-1 div.sk-toggleable__content.fitted pre {\n",
                            "  /* unfitted */\n",
                            "  background-color: var(--sklearn-color-fitted-level-0);\n",
                            "}\n",
                            "\n",
                            "#sk-container-id-1 input.sk-toggleable__control:checked~div.sk-toggleable__content {\n",
                            "  /* Expand drop-down */\n",
                            "  display: block;\n",
                            "  width: 100%;\n",
                            "  overflow: visible;\n",
                            "}\n",
                            "\n",
                            "#sk-container-id-1 input.sk-toggleable__control:checked~label.sk-toggleable__label-arrow:before {\n",
                            "  content: \"▾\";\n",
                            "}\n",
                            "\n",
                            "/* Pipeline/ColumnTransformer-specific style */\n",
                            "\n",
                            "#sk-container-id-1 div.sk-label input.sk-toggleable__control:checked~label.sk-toggleable__label {\n",
                            "  color: var(--sklearn-color-text);\n",
                            "  background-color: var(--sklearn-color-unfitted-level-2);\n",
                            "}\n",
                            "\n",
                            "#sk-container-id-1 div.sk-label.fitted input.sk-toggleable__control:checked~label.sk-toggleable__label {\n",
                            "  background-color: var(--sklearn-color-fitted-level-2);\n",
                            "}\n",
                            "\n",
                            "/* Estimator-specific style */\n",
                            "\n",
                            "/* Colorize estimator box */\n",
                            "#sk-container-id-1 div.sk-estimator input.sk-toggleable__control:checked~label.sk-toggleable__label {\n",
                            "  /* unfitted */\n",
                            "  background-color: var(--sklearn-color-unfitted-level-2);\n",
                            "}\n",
                            "\n",
                            "#sk-container-id-1 div.sk-estimator.fitted input.sk-toggleable__control:checked~label.sk-toggleable__label {\n",
                            "  /* fitted */\n",
                            "  background-color: var(--sklearn-color-fitted-level-2);\n",
                            "}\n",
                            "\n",
                            "#sk-container-id-1 div.sk-label label.sk-toggleable__label,\n",
                            "#sk-container-id-1 div.sk-label label {\n",
                            "  /* The background is the default theme color */\n",
                            "  color: var(--sklearn-color-text-on-default-background);\n",
                            "}\n",
                            "\n",
                            "/* On hover, darken the color of the background */\n",
                            "#sk-container-id-1 div.sk-label:hover label.sk-toggleable__label {\n",
                            "  color: var(--sklearn-color-text);\n",
                            "  background-color: var(--sklearn-color-unfitted-level-2);\n",
                            "}\n",
                            "\n",
                            "/* Label box, darken color on hover, fitted */\n",
                            "#sk-container-id-1 div.sk-label.fitted:hover label.sk-toggleable__label.fitted {\n",
                            "  color: var(--sklearn-color-text);\n",
                            "  background-color: var(--sklearn-color-fitted-level-2);\n",
                            "}\n",
                            "\n",
                            "/* Estimator label */\n",
                            "\n",
                            "#sk-container-id-1 div.sk-label label {\n",
                            "  font-family: monospace;\n",
                            "  font-weight: bold;\n",
                            "  display: inline-block;\n",
                            "  line-height: 1.2em;\n",
                            "}\n",
                            "\n",
                            "#sk-container-id-1 div.sk-label-container {\n",
                            "  text-align: center;\n",
                            "}\n",
                            "\n",
                            "/* Estimator-specific */\n",
                            "#sk-container-id-1 div.sk-estimator {\n",
                            "  font-family: monospace;\n",
                            "  border: 1px dotted var(--sklearn-color-border-box);\n",
                            "  border-radius: 0.25em;\n",
                            "  box-sizing: border-box;\n",
                            "  margin-bottom: 0.5em;\n",
                            "  /* unfitted */\n",
                            "  background-color: var(--sklearn-color-unfitted-level-0);\n",
                            "}\n",
                            "\n",
                            "#sk-container-id-1 div.sk-estimator.fitted {\n",
                            "  /* fitted */\n",
                            "  background-color: var(--sklearn-color-fitted-level-0);\n",
                            "}\n",
                            "\n",
                            "/* on hover */\n",
                            "#sk-container-id-1 div.sk-estimator:hover {\n",
                            "  /* unfitted */\n",
                            "  background-color: var(--sklearn-color-unfitted-level-2);\n",
                            "}\n",
                            "\n",
                            "#sk-container-id-1 div.sk-estimator.fitted:hover {\n",
                            "  /* fitted */\n",
                            "  background-color: var(--sklearn-color-fitted-level-2);\n",
                            "}\n",
                            "\n",
                            "/* Specification for estimator info (e.g. \"i\" and \"?\") */\n",
                            "\n",
                            "/* Common style for \"i\" and \"?\" */\n",
                            "\n",
                            ".sk-estimator-doc-link,\n",
                            "a:link.sk-estimator-doc-link,\n",
                            "a:visited.sk-estimator-doc-link {\n",
                            "  float: right;\n",
                            "  font-size: smaller;\n",
                            "  line-height: 1em;\n",
                            "  font-family: monospace;\n",
                            "  background-color: var(--sklearn-color-background);\n",
                            "  border-radius: 1em;\n",
                            "  height: 1em;\n",
                            "  width: 1em;\n",
                            "  text-decoration: none !important;\n",
                            "  margin-left: 0.5em;\n",
                            "  text-align: center;\n",
                            "  /* unfitted */\n",
                            "  border: var(--sklearn-color-unfitted-level-1) 1pt solid;\n",
                            "  color: var(--sklearn-color-unfitted-level-1);\n",
                            "}\n",
                            "\n",
                            ".sk-estimator-doc-link.fitted,\n",
                            "a:link.sk-estimator-doc-link.fitted,\n",
                            "a:visited.sk-estimator-doc-link.fitted {\n",
                            "  /* fitted */\n",
                            "  border: var(--sklearn-color-fitted-level-1) 1pt solid;\n",
                            "  color: var(--sklearn-color-fitted-level-1);\n",
                            "}\n",
                            "\n",
                            "/* On hover */\n",
                            "div.sk-estimator:hover .sk-estimator-doc-link:hover,\n",
                            ".sk-estimator-doc-link:hover,\n",
                            "div.sk-label-container:hover .sk-estimator-doc-link:hover,\n",
                            ".sk-estimator-doc-link:hover {\n",
                            "  /* unfitted */\n",
                            "  background-color: var(--sklearn-color-unfitted-level-3);\n",
                            "  color: var(--sklearn-color-background);\n",
                            "  text-decoration: none;\n",
                            "}\n",
                            "\n",
                            "div.sk-estimator.fitted:hover .sk-estimator-doc-link.fitted:hover,\n",
                            ".sk-estimator-doc-link.fitted:hover,\n",
                            "div.sk-label-container:hover .sk-estimator-doc-link.fitted:hover,\n",
                            ".sk-estimator-doc-link.fitted:hover {\n",
                            "  /* fitted */\n",
                            "  background-color: var(--sklearn-color-fitted-level-3);\n",
                            "  color: var(--sklearn-color-background);\n",
                            "  text-decoration: none;\n",
                            "}\n",
                            "\n",
                            "/* Span, style for the box shown on hovering the info icon */\n",
                            ".sk-estimator-doc-link span {\n",
                            "  display: none;\n",
                            "  z-index: 9999;\n",
                            "  position: relative;\n",
                            "  font-weight: normal;\n",
                            "  right: .2ex;\n",
                            "  padding: .5ex;\n",
                            "  margin: .5ex;\n",
                            "  width: min-content;\n",
                            "  min-width: 20ex;\n",
                            "  max-width: 50ex;\n",
                            "  color: var(--sklearn-color-text);\n",
                            "  box-shadow: 2pt 2pt 4pt #999;\n",
                            "  /* unfitted */\n",
                            "  background: var(--sklearn-color-unfitted-level-0);\n",
                            "  border: .5pt solid var(--sklearn-color-unfitted-level-3);\n",
                            "}\n",
                            "\n",
                            ".sk-estimator-doc-link.fitted span {\n",
                            "  /* fitted */\n",
                            "  background: var(--sklearn-color-fitted-level-0);\n",
                            "  border: var(--sklearn-color-fitted-level-3);\n",
                            "}\n",
                            "\n",
                            ".sk-estimator-doc-link:hover span {\n",
                            "  display: block;\n",
                            "}\n",
                            "\n",
                            "/* \"?\"-specific style due to the `<a>` HTML tag */\n",
                            "\n",
                            "#sk-container-id-1 a.estimator_doc_link {\n",
                            "  float: right;\n",
                            "  font-size: 1rem;\n",
                            "  line-height: 1em;\n",
                            "  font-family: monospace;\n",
                            "  background-color: var(--sklearn-color-background);\n",
                            "  border-radius: 1rem;\n",
                            "  height: 1rem;\n",
                            "  width: 1rem;\n",
                            "  text-decoration: none;\n",
                            "  /* unfitted */\n",
                            "  color: var(--sklearn-color-unfitted-level-1);\n",
                            "  border: var(--sklearn-color-unfitted-level-1) 1pt solid;\n",
                            "}\n",
                            "\n",
                            "#sk-container-id-1 a.estimator_doc_link.fitted {\n",
                            "  /* fitted */\n",
                            "  border: var(--sklearn-color-fitted-level-1) 1pt solid;\n",
                            "  color: var(--sklearn-color-fitted-level-1);\n",
                            "}\n",
                            "\n",
                            "/* On hover */\n",
                            "#sk-container-id-1 a.estimator_doc_link:hover {\n",
                            "  /* unfitted */\n",
                            "  background-color: var(--sklearn-color-unfitted-level-3);\n",
                            "  color: var(--sklearn-color-background);\n",
                            "  text-decoration: none;\n",
                            "}\n",
                            "\n",
                            "#sk-container-id-1 a.estimator_doc_link.fitted:hover {\n",
                            "  /* fitted */\n",
                            "  background-color: var(--sklearn-color-fitted-level-3);\n",
                            "}\n",
                            "\n",
                            ".estimator-table summary {\n",
                            "    padding: .5rem;\n",
                            "    font-family: monospace;\n",
                            "    cursor: pointer;\n",
                            "}\n",
                            "\n",
                            ".estimator-table details[open] {\n",
                            "    padding-left: 0.1rem;\n",
                            "    padding-right: 0.1rem;\n",
                            "    padding-bottom: 0.3rem;\n",
                            "}\n",
                            "\n",
                            ".estimator-table .parameters-table {\n",
                            "    margin-left: auto !important;\n",
                            "    margin-right: auto !important;\n",
                            "}\n",
                            "\n",
                            ".estimator-table .parameters-table tr:nth-child(odd) {\n",
                            "    background-color: #fff;\n",
                            "}\n",
                            "\n",
                            ".estimator-table .parameters-table tr:nth-child(even) {\n",
                            "    background-color: #f6f6f6;\n",
                            "}\n",
                            "\n",
                            ".estimator-table .parameters-table tr:hover {\n",
                            "    background-color: #e0e0e0;\n",
                            "}\n",
                            "\n",
                            ".estimator-table table td {\n",
                            "    border: 1px solid rgba(106, 105, 104, 0.232);\n",
                            "}\n",
                            "\n",
                            ".user-set td {\n",
                            "    color:rgb(255, 94, 0);\n",
                            "    text-align: left;\n",
                            "}\n",
                            "\n",
                            ".user-set td.value pre {\n",
                            "    color:rgb(255, 94, 0) !important;\n",
                            "    background-color: transparent !important;\n",
                            "}\n",
                            "\n",
                            ".default td {\n",
                            "    color: black;\n",
                            "    text-align: left;\n",
                            "}\n",
                            "\n",
                            ".user-set td i,\n",
                            ".default td i {\n",
                            "    color: black;\n",
                            "}\n",
                            "\n",
                            ".copy-paste-icon {\n",
                            "    background-image: url(data:image/svg+xml;base64,PHN2ZyB4bWxucz0iaHR0cDovL3d3dy53My5vcmcvMjAwMC9zdmciIHZpZXdCb3g9IjAgMCA0NDggNTEyIj48IS0tIUZvbnQgQXdlc29tZSBGcmVlIDYuNy4yIGJ5IEBmb250YXdlc29tZSAtIGh0dHBzOi8vZm9udGF3ZXNvbWUuY29tIExpY2Vuc2UgLSBodHRwczovL2ZvbnRhd2Vzb21lLmNvbS9saWNlbnNlL2ZyZWUgQ29weXJpZ2h0IDIwMjUgRm9udGljb25zLCBJbmMuLS0+PHBhdGggZD0iTTIwOCAwTDMzMi4xIDBjMTIuNyAwIDI0LjkgNS4xIDMzLjkgMTQuMWw2Ny45IDY3LjljOSA5IDE0LjEgMjEuMiAxNC4xIDMzLjlMNDQ4IDMzNmMwIDI2LjUtMjEuNSA0OC00OCA0OGwtMTkyIDBjLTI2LjUgMC00OC0yMS41LTQ4LTQ4bDAtMjg4YzAtMjYuNSAyMS41LTQ4IDQ4LTQ4ek00OCAxMjhsODAgMCAwIDY0LTY0IDAgMCAyNTYgMTkyIDAgMC0zMiA2NCAwIDAgNDhjMCAyNi41LTIxLjUgNDgtNDggNDhMNDggNTEyYy0yNi41IDAtNDgtMjEuNS00OC00OEwwIDE3NmMwLTI2LjUgMjEuNS00OCA0OC00OHoiLz48L3N2Zz4=);\n",
                            "    background-repeat: no-repeat;\n",
                            "    background-size: 14px 14px;\n",
                            "    background-position: 0;\n",
                            "    display: inline-block;\n",
                            "    width: 14px;\n",
                            "    height: 14px;\n",
                            "    cursor: pointer;\n",
                            "}\n",
                            "</style><body><div id=\"sk-container-id-1\" class=\"sk-top-container\"><div class=\"sk-text-repr-fallback\"><pre>LinearRegression()</pre><b>In a Jupyter environment, please rerun this cell to show the HTML representation or trust the notebook. <br />On GitHub, the HTML representation is unable to render, please try loading this page with nbviewer.org.</b></div><div class=\"sk-container\" hidden><div class=\"sk-item\"><div class=\"sk-estimator fitted sk-toggleable\"><input class=\"sk-toggleable__control sk-hidden--visually\" id=\"sk-estimator-id-1\" type=\"checkbox\" checked><label for=\"sk-estimator-id-1\" class=\"sk-toggleable__label fitted sk-toggleable__label-arrow\"><div><div>LinearRegression</div></div><div><a class=\"sk-estimator-doc-link fitted\" rel=\"noreferrer\" target=\"_blank\" href=\"https://scikit-learn.org/1.7/modules/generated/sklearn.linear_model.LinearRegression.html\">?<span>Documentation for LinearRegression</span></a><span class=\"sk-estimator-doc-link fitted\">i<span>Fitted</span></span></div></label><div class=\"sk-toggleable__content fitted\" data-param-prefix=\"\">\n",
                            "        <div class=\"estimator-table\">\n",
                            "            <details>\n",
                            "                <summary>Parameters</summary>\n",
                            "                <table class=\"parameters-table\">\n",
                            "                  <tbody>\n",
                            "                    \n",
                            "        <tr class=\"default\">\n",
                            "            <td><i class=\"copy-paste-icon\"\n",
                            "                 onclick=\"copyToClipboard('fit_intercept',\n",
                            "                          this.parentElement.nextElementSibling)\"\n",
                            "            ></i></td>\n",
                            "            <td class=\"param\">fit_intercept&nbsp;</td>\n",
                            "            <td class=\"value\">True</td>\n",
                            "        </tr>\n",
                            "    \n",
                            "\n",
                            "        <tr class=\"default\">\n",
                            "            <td><i class=\"copy-paste-icon\"\n",
                            "                 onclick=\"copyToClipboard('copy_X',\n",
                            "                          this.parentElement.nextElementSibling)\"\n",
                            "            ></i></td>\n",
                            "            <td class=\"param\">copy_X&nbsp;</td>\n",
                            "            <td class=\"value\">True</td>\n",
                            "        </tr>\n",
                            "    \n",
                            "\n",
                            "        <tr class=\"default\">\n",
                            "            <td><i class=\"copy-paste-icon\"\n",
                            "                 onclick=\"copyToClipboard('tol',\n",
                            "                          this.parentElement.nextElementSibling)\"\n",
                            "            ></i></td>\n",
                            "            <td class=\"param\">tol&nbsp;</td>\n",
                            "            <td class=\"value\">1e-06</td>\n",
                            "        </tr>\n",
                            "    \n",
                            "\n",
                            "        <tr class=\"default\">\n",
                            "            <td><i class=\"copy-paste-icon\"\n",
                            "                 onclick=\"copyToClipboard('n_jobs',\n",
                            "                          this.parentElement.nextElementSibling)\"\n",
                            "            ></i></td>\n",
                            "            <td class=\"param\">n_jobs&nbsp;</td>\n",
                            "            <td class=\"value\">None</td>\n",
                            "        </tr>\n",
                            "    \n",
                            "\n",
                            "        <tr class=\"default\">\n",
                            "            <td><i class=\"copy-paste-icon\"\n",
                            "                 onclick=\"copyToClipboard('positive',\n",
                            "                          this.parentElement.nextElementSibling)\"\n",
                            "            ></i></td>\n",
                            "            <td class=\"param\">positive&nbsp;</td>\n",
                            "            <td class=\"value\">False</td>\n",
                            "        </tr>\n",
                            "    \n",
                            "                  </tbody>\n",
                            "                </table>\n",
                            "            </details>\n",
                            "        </div>\n",
                            "    </div></div></div></div></div><script>function copyToClipboard(text, element) {\n",
                            "    // Get the parameter prefix from the closest toggleable content\n",
                            "    const toggleableContent = element.closest('.sk-toggleable__content');\n",
                            "    const paramPrefix = toggleableContent ? toggleableContent.dataset.paramPrefix : '';\n",
                            "    const fullParamName = paramPrefix ? `${paramPrefix}${text}` : text;\n",
                            "\n",
                            "    const originalStyle = element.style;\n",
                            "    const computedStyle = window.getComputedStyle(element);\n",
                            "    const originalWidth = computedStyle.width;\n",
                            "    const originalHTML = element.innerHTML.replace('Copied!', '');\n",
                            "\n",
                            "    navigator.clipboard.writeText(fullParamName)\n",
                            "        .then(() => {\n",
                            "            element.style.width = originalWidth;\n",
                            "            element.style.color = 'green';\n",
                            "            element.innerHTML = \"Copied!\";\n",
                            "\n",
                            "            setTimeout(() => {\n",
                            "                element.innerHTML = originalHTML;\n",
                            "                element.style = originalStyle;\n",
                            "            }, 2000);\n",
                            "        })\n",
                            "        .catch(err => {\n",
                            "            console.error('Failed to copy:', err);\n",
                            "            element.style.color = 'red';\n",
                            "            element.innerHTML = \"Failed!\";\n",
                            "            setTimeout(() => {\n",
                            "                element.innerHTML = originalHTML;\n",
                            "                element.style = originalStyle;\n",
                            "            }, 2000);\n",
                            "        });\n",
                            "    return false;\n",
                            "}\n",
                            "\n",
                            "document.querySelectorAll('.fa-regular.fa-copy').forEach(function(element) {\n",
                            "    const toggleableContent = element.closest('.sk-toggleable__content');\n",
                            "    const paramPrefix = toggleableContent ? toggleableContent.dataset.paramPrefix : '';\n",
                            "    const paramName = element.parentElement.nextElementSibling.textContent.trim();\n",
                            "    const fullParamName = paramPrefix ? `${paramPrefix}${paramName}` : paramName;\n",
                            "\n",
                            "    element.setAttribute('title', fullParamName);\n",
                            "});\n",
                            "</script></body>"
                        ],
                        "text/plain": [
                            "LinearRegression()"
                        ]
                    },
                    "execution_count": 47,
                    "metadata": {},
                    "output_type": "execute_result"
                }
            ],
            "source": [
                "regression.fit(X_train,y_train)"
            ]
        },
        {
            "cell_type": "code",
            "execution_count": 52,
            "id": "50c595db",
            "metadata": {},
            "outputs": [
                {
                    "name": "stdout",
                    "output_type": "stream",
                    "text": [
                        "[-4921.61331265 -7686.87497294 -5135.9962549 ]\n"
                    ]
                }
            ],
            "source": [
                "from sklearn.model_selection import cross_val_score\n",
                "\n",
                "validation_score=cross_val_score(regression,X_train,y_train,scoring='neg_mean_squared_error',cv=3)\n",
                "print(validation_score)"
            ]
        },
        {
            "cell_type": "code",
            "execution_count": 53,
            "id": "5d9bc46a",
            "metadata": {},
            "outputs": [
                {
                    "data": {
                        "text/plain": [
                            "np.float64(-5914.82818016241)"
                        ]
                    },
                    "execution_count": 53,
                    "metadata": {},
                    "output_type": "execute_result"
                }
            ],
            "source": [
                "np.mean(validation_score)"
            ]
        },
        {
            "cell_type": "code",
            "execution_count": 54,
            "id": "eb2ed104",
            "metadata": {},
            "outputs": [],
            "source": [
                "## predication\n",
                "y_pred=regression.predict(X_test)"
            ]
        },
        {
            "cell_type": "code",
            "execution_count": 55,
            "id": "0cce9fdd",
            "metadata": {},
            "outputs": [
                {
                    "data": {
                        "text/plain": [
                            "array([1204.22770398,  821.65051903, 1406.51300368,  857.70889608,\n",
                            "        994.90992298, 1168.16932693])"
                        ]
                    },
                    "execution_count": 55,
                    "metadata": {},
                    "output_type": "execute_result"
                }
            ],
            "source": [
                "y_pred"
            ]
        },
        {
            "cell_type": "code",
            "execution_count": 56,
            "id": "c832b764",
            "metadata": {},
            "outputs": [
                {
                    "name": "stdout",
                    "output_type": "stream",
                    "text": [
                        "5793.762887712554\n",
                        "59.935781523235505\n",
                        "76.11677139574796\n"
                    ]
                }
            ],
            "source": [
                "from sklearn.metrics import mean_squared_error,mean_absolute_error\n",
                "\n",
                "mse=mean_squared_error(y_test,y_pred)\n",
                "mae=mean_absolute_error(y_test,y_pred)\n",
                "print(mse)\n",
                "print(mae)\n",
                "rmse=np.sqrt(mse)\n",
                "print(rmse)"
            ]
        },
        {
            "cell_type": "code",
            "execution_count": 57,
            "id": "5a18f6d3",
            "metadata": {},
            "outputs": [
                {
                    "name": "stdout",
                    "output_type": "stream",
                    "text": [
                        "0.827897809145715\n"
                    ]
                }
            ],
            "source": [
                "from sklearn.metrics import r2_score\n",
                "score=r2_score(y_test,y_pred)\n",
                "print(score)"
            ]
        },
        {
            "cell_type": "code",
            "execution_count": 59,
            "id": "dfc05ec4",
            "metadata": {},
            "outputs": [],
            "source": [
                "#OLS\n",
                "import statsmodels.api as sm\n",
                "model=sm.OLS(y_train,X_train).fit()"
            ]
        },
        {
            "cell_type": "code",
            "execution_count": 61,
            "id": "9fd1bdb5",
            "metadata": {},
            "outputs": [
                {
                    "name": "stdout",
                    "output_type": "stream",
                    "text": [
                        "                                 OLS Regression Results                                \n",
                        "=======================================================================================\n",
                        "Dep. Variable:            index_price   R-squared (uncentered):                   0.995\n",
                        "Model:                            OLS   Adj. R-squared (uncentered):              0.994\n",
                        "Method:                 Least Squares   F-statistic:                              1468.\n",
                        "Date:                Wed, 18 Jun 2025   Prob (F-statistic):                    7.46e-19\n",
                        "Time:                        20:21:40   Log-Likelihood:                         -104.21\n",
                        "No. Observations:                  18   AIC:                                      212.4\n",
                        "Df Residuals:                      16   BIC:                                      214.2\n",
                        "Df Model:                           2                                                  \n",
                        "Covariance Type:            nonrobust                                                  \n",
                        "=====================================================================================\n",
                        "                        coef    std err          t      P>|t|      [0.025      0.975]\n",
                        "-------------------------------------------------------------------------------------\n",
                        "interest_rate       569.9494     44.349     12.851      0.000     475.933     663.965\n",
                        "unemployment_rate   -20.5734     15.966     -1.289      0.216     -54.421      13.274\n",
                        "==============================================================================\n",
                        "Omnibus:                        1.657   Durbin-Watson:                   1.707\n",
                        "Prob(Omnibus):                  0.437   Jarque-Bera (JB):                1.346\n",
                        "Skew:                          -0.611   Prob(JB):                        0.510\n",
                        "Kurtosis:                       2.451   Cond. No.                         14.6\n",
                        "==============================================================================\n",
                        "\n",
                        "Notes:\n",
                        "[1] R² is computed without centering (uncentered) since the model does not contain a constant.\n",
                        "[2] Standard Errors assume that the covariance matrix of the errors is correctly specified.\n"
                    ]
                },
                {
                    "name": "stderr",
                    "output_type": "stream",
                    "text": [
                        "d:\\ML\\myenv\\Lib\\site-packages\\scipy\\stats\\_axis_nan_policy.py:430: UserWarning: `kurtosistest` p-value may be inaccurate with fewer than 20 observations; only n=18 observations were given.\n",
                        "  return hypotest_fun_in(*args, **kwds)\n"
                    ]
                }
            ],
            "source": [
                "print(model.summary())"
            ]
        },
        {
            "cell_type": "code",
            "execution_count": null,
            "id": "0ee9b83c",
            "metadata": {},
            "outputs": [],
            "source": []
        },
        {
            "cell_type": "code",
            "execution_count": 7,
            "id": "e97a674b",
            "metadata": {},
            "outputs": [
                {
                    "data": {
                        "application/vnd.microsoft.datawrangler.viewer.v0+json": {
                            "columns": [
                                {
                                    "name": "index",
                                    "rawType": "int64",
                                    "type": "integer"
                                },
                                {
                                    "name": "SNo",
                                    "rawType": "int64",
                                    "type": "integer"
                                },
                                {
                                    "name": "year",
                                    "rawType": "int64",
                                    "type": "integer"
                                },
                                {
                                    "name": "month",
                                    "rawType": "int64",
                                    "type": "integer"
                                },
                                {
                                    "name": "interest_rate",
                                    "rawType": "float64",
                                    "type": "float"
                                },
                                {
                                    "name": "unemployment_rate",
                                    "rawType": "float64",
                                    "type": "float"
                                },
                                {
                                    "name": "index_price",
                                    "rawType": "int64",
                                    "type": "integer"
                                }
                            ],
                            "ref": "21afe496-eeda-4859-9218-e9a9b11bda3d",
                            "rows": [
                                [
                                    "0",
                                    "0",
                                    "2017",
                                    "12",
                                    "2.75",
                                    "5.3",
                                    "1464"
                                ],
                                [
                                    "1",
                                    "1",
                                    "2017",
                                    "11",
                                    "2.5",
                                    "5.3",
                                    "1394"
                                ],
                                [
                                    "2",
                                    "2",
                                    "2017",
                                    "10",
                                    "2.5",
                                    "5.3",
                                    "1357"
                                ],
                                [
                                    "3",
                                    "3",
                                    "2017",
                                    "9",
                                    "2.5",
                                    "5.3",
                                    "1293"
                                ],
                                [
                                    "4",
                                    "4",
                                    "2017",
                                    "8",
                                    "2.5",
                                    "5.4",
                                    "1256"
                                ]
                            ],
                            "shape": {
                                "columns": 6,
                                "rows": 5
                            }
                        },
                        "text/html": [
                            "<div>\n",
                            "<style scoped>\n",
                            "    .dataframe tbody tr th:only-of-type {\n",
                            "        vertical-align: middle;\n",
                            "    }\n",
                            "\n",
                            "    .dataframe tbody tr th {\n",
                            "        vertical-align: top;\n",
                            "    }\n",
                            "\n",
                            "    .dataframe thead th {\n",
                            "        text-align: right;\n",
                            "    }\n",
                            "</style>\n",
                            "<table border=\"1\" class=\"dataframe\">\n",
                            "  <thead>\n",
                            "    <tr style=\"text-align: right;\">\n",
                            "      <th></th>\n",
                            "      <th>SNo</th>\n",
                            "      <th>year</th>\n",
                            "      <th>month</th>\n",
                            "      <th>interest_rate</th>\n",
                            "      <th>unemployment_rate</th>\n",
                            "      <th>index_price</th>\n",
                            "    </tr>\n",
                            "  </thead>\n",
                            "  <tbody>\n",
                            "    <tr>\n",
                            "      <th>0</th>\n",
                            "      <td>0</td>\n",
                            "      <td>2017</td>\n",
                            "      <td>12</td>\n",
                            "      <td>2.75</td>\n",
                            "      <td>5.3</td>\n",
                            "      <td>1464</td>\n",
                            "    </tr>\n",
                            "    <tr>\n",
                            "      <th>1</th>\n",
                            "      <td>1</td>\n",
                            "      <td>2017</td>\n",
                            "      <td>11</td>\n",
                            "      <td>2.50</td>\n",
                            "      <td>5.3</td>\n",
                            "      <td>1394</td>\n",
                            "    </tr>\n",
                            "    <tr>\n",
                            "      <th>2</th>\n",
                            "      <td>2</td>\n",
                            "      <td>2017</td>\n",
                            "      <td>10</td>\n",
                            "      <td>2.50</td>\n",
                            "      <td>5.3</td>\n",
                            "      <td>1357</td>\n",
                            "    </tr>\n",
                            "    <tr>\n",
                            "      <th>3</th>\n",
                            "      <td>3</td>\n",
                            "      <td>2017</td>\n",
                            "      <td>9</td>\n",
                            "      <td>2.50</td>\n",
                            "      <td>5.3</td>\n",
                            "      <td>1293</td>\n",
                            "    </tr>\n",
                            "    <tr>\n",
                            "      <th>4</th>\n",
                            "      <td>4</td>\n",
                            "      <td>2017</td>\n",
                            "      <td>8</td>\n",
                            "      <td>2.50</td>\n",
                            "      <td>5.4</td>\n",
                            "      <td>1256</td>\n",
                            "    </tr>\n",
                            "  </tbody>\n",
                            "</table>\n",
                            "</div>"
                        ],
                        "text/plain": [
                            "   SNo  year  month  interest_rate  unemployment_rate  index_price\n",
                            "0    0  2017     12           2.75                5.3         1464\n",
                            "1    1  2017     11           2.50                5.3         1394\n",
                            "2    2  2017     10           2.50                5.3         1357\n",
                            "3    3  2017      9           2.50                5.3         1293\n",
                            "4    4  2017      8           2.50                5.4         1256"
                        ]
                    },
                    "execution_count": 7,
                    "metadata": {},
                    "output_type": "execute_result"
                }
            ],
            "source": [
                "df_index.head()"
            ]
        },
        {
            "cell_type": "code",
            "execution_count": 8,
            "id": "678429d6",
            "metadata": {},
            "outputs": [
                {
                    "data": {
                        "text/plain": [
                            "<bound method DataFrame.corr of     SNo  year  month  interest_rate  unemployment_rate  index_price\n",
                            "0     0  2017     12           2.75                5.3         1464\n",
                            "1     1  2017     11           2.50                5.3         1394\n",
                            "2     2  2017     10           2.50                5.3         1357\n",
                            "3     3  2017      9           2.50                5.3         1293\n",
                            "4     4  2017      8           2.50                5.4         1256\n",
                            "5     5  2017      7           2.50                5.6         1254\n",
                            "6     6  2017      6           2.50                5.5         1234\n",
                            "7     7  2017      5           2.25                5.5         1195\n",
                            "8     8  2017      4           2.25                5.5         1159\n",
                            "9     9  2017      3           2.25                5.6         1167\n",
                            "10   10  2017      2           2.00                5.7         1130\n",
                            "11   11  2017      1           2.00                5.9         1075\n",
                            "12   12  2016     12           2.00                6.0         1047\n",
                            "13   13  2016     11           1.75                5.9          965\n",
                            "14   14  2016     10           1.75                5.8          943\n",
                            "15   15  2016      9           1.75                6.1          958\n",
                            "16   16  2016      8           1.75                6.2          971\n",
                            "17   17  2016      7           1.75                6.1          949\n",
                            "18   18  2016      6           1.75                6.1          884\n",
                            "19   19  2016      5           1.75                6.1          866\n",
                            "20   20  2016      4           1.75                5.9          876\n",
                            "21   21  2016      3           1.75                6.2          822\n",
                            "22   22  2016      2           1.75                6.2          704\n",
                            "23   23  2016      1           1.75                6.1          719>"
                        ]
                    },
                    "execution_count": 8,
                    "metadata": {},
                    "output_type": "execute_result"
                }
            ],
            "source": [
                "df_index.corr"
            ]
        },
        {
            "cell_type": "code",
            "execution_count": 9,
            "id": "cf94d235",
            "metadata": {},
            "outputs": [
                {
                    "name": "stdout",
                    "output_type": "stream",
                    "text": [
                        "<class 'pandas.core.frame.DataFrame'>\n",
                        "RangeIndex: 24 entries, 0 to 23\n",
                        "Data columns (total 6 columns):\n",
                        " #   Column             Non-Null Count  Dtype  \n",
                        "---  ------             --------------  -----  \n",
                        " 0   SNo                24 non-null     int64  \n",
                        " 1   year               24 non-null     int64  \n",
                        " 2   month              24 non-null     int64  \n",
                        " 3   interest_rate      24 non-null     float64\n",
                        " 4   unemployment_rate  24 non-null     float64\n",
                        " 5   index_price        24 non-null     int64  \n",
                        "dtypes: float64(2), int64(4)\n",
                        "memory usage: 1.3 KB\n"
                    ]
                }
            ],
            "source": [
                "df_index.info()"
            ]
        },
        {
            "cell_type": "code",
            "execution_count": 10,
            "id": "6a694e2b",
            "metadata": {},
            "outputs": [
                {
                    "data": {
                        "text/plain": [
                            "<matplotlib.collections.PathCollection at 0x2ada8b0b1a0>"
                        ]
                    },
                    "execution_count": 10,
                    "metadata": {},
                    "output_type": "execute_result"
                },
                {
                    "data": {
                        "image/png": "[encoded data removed]",
                        "text/plain": [
                            "<Figure size 640x480 with 1 Axes>"
                        ]
                    },
                    "metadata": {},
                    "output_type": "display_data"
                }
            ],
            "source": [
                "plt.scatter(df_index['year'],df_index['index_price'])"
            ]
        },
        {
            "cell_type": "code",
            "execution_count": null,
            "id": "7af2e894",
            "metadata": {},
            "outputs": [],
            "source": []
        }
    ],
    "metadata": {
        "kernelspec": {
            "display_name": "Python 3",
            "language": "python",
            "name": "python3"
        },
        "language_info": {
            "codemirror_mode": {
                "name": "ipython",
                "version": 3
            },
            "file_extension": ".py",
            "mimetype": "text/x-python",
            "name": "python",
            "nbconvert_exporter": "python",
            "pygments_lexer": "ipython3",
            "version": "3.12.7"
        }
    },
    "nbformat": 4,
    "nbformat_minor": 5
}
